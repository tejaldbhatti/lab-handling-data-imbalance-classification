{
 "cells": [
  {
   "cell_type": "code",
   "execution_count": 1,
   "metadata": {},
   "outputs": [],
   "source": [
    "import pandas as pd\n",
    "import numpy as np"
   ]
  },
  {
   "cell_type": "code",
   "execution_count": 2,
   "metadata": {},
   "outputs": [
    {
     "data": {
      "text/plain": [
       "(95412, 315)"
      ]
     },
     "execution_count": 2,
     "metadata": {},
     "output_type": "execute_result"
    }
   ],
   "source": [
    "num = pd.read_csv(\"numerical(1).csv\")\n",
    "num.shape"
   ]
  },
  {
   "cell_type": "code",
   "execution_count": 3,
   "metadata": {},
   "outputs": [],
   "source": [
    "cat = pd.read_csv(\"categorical.csv\")"
   ]
  },
  {
   "cell_type": "code",
   "execution_count": 4,
   "metadata": {},
   "outputs": [
    {
     "data": {
      "text/plain": [
       "DOMAIN_B\n",
       "3    48356\n",
       "4    28498\n",
       "2    16754\n",
       "1     1804\n",
       "Name: count, dtype: int64"
      ]
     },
     "execution_count": 4,
     "metadata": {},
     "output_type": "execute_result"
    }
   ],
   "source": [
    "# transforming Domain_B \n",
    "mapping = {1: 4, 2: 3, 3: 2, 4: 1}\n",
    "cat[\"DOMAIN_B\"] = cat[\"DOMAIN_B\"].replace(mapping)\n",
    "cat[\"DOMAIN_B\"].value_counts() "
   ]
  },
  {
   "cell_type": "code",
   "execution_count": 5,
   "metadata": {},
   "outputs": [],
   "source": [
    "#Converting DATASRCE into object\n",
    "cat[\"DATASRCE\"] = cat[\"DATASRCE\"].astype('object')"
   ]
  },
  {
   "cell_type": "code",
   "execution_count": 6,
   "metadata": {},
   "outputs": [],
   "source": [
    "# Dropping RFA_2R because it has only one unique value\n",
    "cat.drop(\"RFA_2R\",axis =1,inplace=True)"
   ]
  },
  {
   "cell_type": "code",
   "execution_count": 7,
   "metadata": {},
   "outputs": [],
   "source": [
    "target = pd.read_csv(\"target.csv\")\n"
   ]
  },
  {
   "cell_type": "markdown",
   "metadata": {},
   "source": [
    "# Look critically at the dtypes of numerical and categorical columns and make changes where appropriate"
   ]
  },
  {
   "cell_type": "code",
   "execution_count": null,
   "metadata": {},
   "outputs": [],
   "source": [
    "# numer =[]\n",
    "# for i in num.columns:\n",
    "#     unique_values = num[i].nunique()\n",
    "#     if unique_values <=10: \n",
    "#         numer.append(i)\n",
    "# # this above code check the number of unique values of each \n",
    "# #numerical columns and when the unique values are less than or equal to 10 , we will convert it into category        "
   ]
  },
  {
   "cell_type": "code",
   "execution_count": null,
   "metadata": {},
   "outputs": [],
   "source": [
    "# for i in numer:\n",
    "#     num[i] = num[i].astype('object')"
   ]
  },
  {
   "cell_type": "code",
   "execution_count": null,
   "metadata": {},
   "outputs": [],
   "source": [
    "# num.columns[num.dtypes==object]"
   ]
  },
  {
   "cell_type": "code",
   "execution_count": null,
   "metadata": {},
   "outputs": [],
   "source": [
    "# for column in numerical.columns:\n",
    "#     unique_values = numerical[column].unique()\n",
    "#     print(f\"Column: {column}, Unique Values: {unique_values}\")"
   ]
  },
  {
   "cell_type": "code",
   "execution_count": null,
   "metadata": {},
   "outputs": [],
   "source": [
    "# All features in numerical are integer or float.\n",
    "# Even they are categorical, but have dtype integer or float, I will not convert dtype, as this will create too much additional features for the future model."
   ]
  },
  {
   "cell_type": "markdown",
   "metadata": {},
   "source": [
    "# concating num and cat = X"
   ]
  },
  {
   "cell_type": "code",
   "execution_count": 8,
   "metadata": {},
   "outputs": [],
   "source": [
    "X = pd.concat([num,cat],axis =1)"
   ]
  },
  {
   "cell_type": "code",
   "execution_count": 9,
   "metadata": {},
   "outputs": [],
   "source": [
    "y =target[\"TARGET_B\"]"
   ]
  },
  {
   "cell_type": "code",
   "execution_count": 10,
   "metadata": {},
   "outputs": [],
   "source": [
    "# train test split\n",
    "from sklearn.model_selection import train_test_split\n",
    "X_train, X_test, y_train, y_test = train_test_split(X, y, test_size=0.20, random_state = 1)"
   ]
  },
  {
   "cell_type": "code",
   "execution_count": 11,
   "metadata": {},
   "outputs": [],
   "source": [
    "#Split further into train_num and train_cat. Also test_num and test_cat\n",
    "train_cat = X_train.select_dtypes(include = \"object\")\n",
    "train_num = X_train.select_dtypes(exclude = \"object\")\n",
    "test_cat = X_test.select_dtypes(include = \"object\")\n",
    "test_num = X_test.select_dtypes(exclude = \"object\")"
   ]
  },
  {
   "cell_type": "code",
   "execution_count": 12,
   "metadata": {},
   "outputs": [],
   "source": [
    "# Scale the features using standardscaler\n",
    "\n",
    "from sklearn.preprocessing import StandardScaler\n",
    "\n",
    "transformer = StandardScaler().fit(train_num)\n",
    "X_train_scale = pd.DataFrame(transformer.transform(train_num),columns = train_num.columns)\n",
    "X_test_scale = pd.DataFrame(transformer.transform(test_num),columns = test_num.columns)"
   ]
  },
  {
   "cell_type": "code",
   "execution_count": 13,
   "metadata": {},
   "outputs": [],
   "source": [
    "# Encode the categorical features using One-Hot Encoding\n",
    "\n",
    "# One hot encoding\n",
    "from sklearn.preprocessing import OneHotEncoder\n",
    "\n",
    "encoder = OneHotEncoder(handle_unknown='error', drop='first')\n",
    "encoder.fit(train_cat)\n",
    "\n",
    "cols = encoder.get_feature_names_out(input_features=train_cat.columns)\n",
    "\n",
    "#X_train_one_hot = encoder.transform(train_cat).toarray()\n",
    "X_train_one_hot = pd.DataFrame(encoder.transform(train_cat).toarray(),columns=cols)\n",
    "X_test_one_hot= pd.DataFrame(encoder.transform(test_cat).toarray(),columns=cols)\n",
    "\n",
    "\n"
   ]
  },
  {
   "cell_type": "code",
   "execution_count": 14,
   "metadata": {},
   "outputs": [],
   "source": [
    "#re-concatenate train_num and train_cat as X_train as well as test_num and test_cat as X_test\n",
    "X_train_r = pd.concat((X_train_scale,X_train_one_hot),axis=1)\n",
    "X_test_r = pd.concat((X_test_scale,X_test_one_hot),axis=1)"
   ]
  },
  {
   "cell_type": "code",
   "execution_count": 15,
   "metadata": {},
   "outputs": [],
   "source": [
    "# Fit a logistic regression (classification) model on the training data.\n",
    "from sklearn.linear_model import LogisticRegression\n",
    "from sklearn import metrics"
   ]
  },
  {
   "cell_type": "code",
   "execution_count": null,
   "metadata": {},
   "outputs": [],
   "source": []
  },
  {
   "cell_type": "code",
   "execution_count": 16,
   "metadata": {},
   "outputs": [],
   "source": [
    "model = LogisticRegression()\n",
    "model.fit(X_train_r, y_train)\n",
    "y_pred = model.predict(X_test_r)"
   ]
  },
  {
   "cell_type": "code",
   "execution_count": 17,
   "metadata": {},
   "outputs": [
    {
     "name": "stdout",
     "output_type": "stream",
     "text": [
      "Accuracy:  0.9487501965099827\n"
     ]
    }
   ],
   "source": [
    "accuracy = metrics.accuracy_score(y_test, y_pred)\n",
    "print(\"Accuracy: \",accuracy)\n"
   ]
  },
  {
   "cell_type": "code",
   "execution_count": 18,
   "metadata": {},
   "outputs": [
    {
     "data": {
      "text/plain": [
       "array([[18105,     0],\n",
       "       [  978,     0]], dtype=int64)"
      ]
     },
     "execution_count": 18,
     "metadata": {},
     "output_type": "execute_result"
    }
   ],
   "source": [
    "from sklearn.metrics import confusion_matrix\n",
    "confusion_matrix(y_test, y_pred)"
   ]
  },
  {
   "cell_type": "code",
   "execution_count": 19,
   "metadata": {},
   "outputs": [
    {
     "name": "stdout",
     "output_type": "stream",
     "text": [
      "Test Accuracy Score 0.9487501965099827\n"
     ]
    }
   ],
   "source": [
    "score = model.score(X_test_r, y_test)\n",
    "print(\"Test Accuracy Score\", score)\n"
   ]
  },
  {
   "cell_type": "markdown",
   "metadata": {},
   "source": [
    "# Managing imbalance in the dataset"
   ]
  },
  {
   "cell_type": "code",
   "execution_count": 20,
   "metadata": {},
   "outputs": [
    {
     "data": {
      "text/plain": [
       "TARGET_B\n",
       "0    90569\n",
       "1     4843\n",
       "Name: count, dtype: int64"
      ]
     },
     "execution_count": 20,
     "metadata": {},
     "output_type": "execute_result"
    }
   ],
   "source": [
    "# Check for the imbalance\n",
    "target['TARGET_B'].value_counts()"
   ]
  },
  {
   "cell_type": "code",
   "execution_count": 21,
   "metadata": {
    "scrolled": true
   },
   "outputs": [],
   "source": [
    "X_train_r_s = pd.DataFrame(X_train_r)\n"
   ]
  },
  {
   "cell_type": "code",
   "execution_count": 22,
   "metadata": {},
   "outputs": [],
   "source": [
    "y_train = y_train.reset_index(drop = True)"
   ]
  },
  {
   "cell_type": "code",
   "execution_count": 23,
   "metadata": {
    "scrolled": true
   },
   "outputs": [
    {
     "data": {
      "text/plain": [
       "(76329, 356)"
      ]
     },
     "execution_count": 23,
     "metadata": {},
     "output_type": "execute_result"
    }
   ],
   "source": [
    "data_B = pd.concat([X_train_r_s,y_train],axis =1)\n",
    "data_B.shape"
   ]
  },
  {
   "cell_type": "code",
   "execution_count": 24,
   "metadata": {},
   "outputs": [],
   "source": [
    "from sklearn.utils import resample\n",
    "\n",
    "category_0 = data_B[data_B['TARGET_B'] == 0]\n",
    "category_1 = data_B[data_B['TARGET_B'] == 1]"
   ]
  },
  {
   "cell_type": "code",
   "execution_count": 25,
   "metadata": {},
   "outputs": [
    {
     "data": {
      "text/plain": [
       "(72464, 356)"
      ]
     },
     "execution_count": 25,
     "metadata": {},
     "output_type": "execute_result"
    }
   ],
   "source": [
    "category_0.shape"
   ]
  },
  {
   "cell_type": "code",
   "execution_count": 26,
   "metadata": {},
   "outputs": [
    {
     "data": {
      "text/plain": [
       "(3865, 356)"
      ]
     },
     "execution_count": 26,
     "metadata": {},
     "output_type": "execute_result"
    }
   ],
   "source": [
    "category_1.shape"
   ]
  },
  {
   "cell_type": "markdown",
   "metadata": {},
   "source": [
    "# Downsampling (undersampling)"
   ]
  },
  {
   "cell_type": "code",
   "execution_count": 27,
   "metadata": {},
   "outputs": [],
   "source": [
    "category_0_undersampled = resample(category_0,\n",
    "                                   replace=False,\n",
    "                                   n_samples = len(category_1))"
   ]
  },
  {
   "cell_type": "code",
   "execution_count": 28,
   "metadata": {},
   "outputs": [
    {
     "name": "stdout",
     "output_type": "stream",
     "text": [
      "(3865, 356)\n",
      "(3865, 356)\n"
     ]
    }
   ],
   "source": [
    "print(category_0_undersampled.shape)\n",
    "print(category_1.shape)"
   ]
  },
  {
   "cell_type": "code",
   "execution_count": 29,
   "metadata": {},
   "outputs": [
    {
     "data": {
      "text/plain": [
       "TARGET_B\n",
       "0    3865\n",
       "1    3865\n",
       "Name: count, dtype: int64"
      ]
     },
     "execution_count": 29,
     "metadata": {},
     "output_type": "execute_result"
    }
   ],
   "source": [
    "data_downsampled = pd.concat([category_0_undersampled, category_1], axis=0)\n",
    "data_downsampled['TARGET_B'].value_counts()"
   ]
  },
  {
   "cell_type": "code",
   "execution_count": 30,
   "metadata": {},
   "outputs": [],
   "source": [
    "y_train_d = data_downsampled[\"TARGET_B\"]\n",
    "data_downsampled.drop(\"TARGET_B\", axis =1,inplace =True)"
   ]
  },
  {
   "cell_type": "code",
   "execution_count": 31,
   "metadata": {},
   "outputs": [],
   "source": [
    "X_test_r_s = pd.DataFrame(X_test_r)"
   ]
  },
  {
   "cell_type": "code",
   "execution_count": 32,
   "metadata": {},
   "outputs": [
    {
     "name": "stderr",
     "output_type": "stream",
     "text": [
      "C:\\Users\\Denish\\anaconda1\\Lib\\site-packages\\sklearn\\linear_model\\_logistic.py:469: ConvergenceWarning: lbfgs failed to converge (status=1):\n",
      "STOP: TOTAL NO. of ITERATIONS REACHED LIMIT.\n",
      "\n",
      "Increase the number of iterations (max_iter) or scale the data as shown in:\n",
      "    https://scikit-learn.org/stable/modules/preprocessing.html\n",
      "Please also refer to the documentation for alternative solver options:\n",
      "    https://scikit-learn.org/stable/modules/linear_model.html#logistic-regression\n",
      "  n_iter_i = _check_optimize_result(\n"
     ]
    }
   ],
   "source": [
    "model1 = LogisticRegression()\n",
    "model1.fit(data_downsampled, y_train_d)\n",
    "y_pred1 = model1.predict(X_test_r_s)"
   ]
  },
  {
   "cell_type": "code",
   "execution_count": 33,
   "metadata": {},
   "outputs": [
    {
     "name": "stdout",
     "output_type": "stream",
     "text": [
      "Accuracy: 0.5695645338783211\n"
     ]
    }
   ],
   "source": [
    "# Calculate accuracy using accuracy_score\n",
    "from sklearn.metrics import accuracy_score\n",
    "accuracy = accuracy_score(y_test, y_pred1)\n",
    "print(\"Accuracy:\", accuracy)"
   ]
  },
  {
   "cell_type": "code",
   "execution_count": 34,
   "metadata": {},
   "outputs": [
    {
     "name": "stdout",
     "output_type": "stream",
     "text": [
      "Model score: 0.5695645338783211\n"
     ]
    }
   ],
   "source": [
    "# Get the model's score (performance on training data)\n",
    "score = model1.score(X_test_r_s, y_test)\n",
    "print(\"Model score:\", score)"
   ]
  },
  {
   "cell_type": "code",
   "execution_count": 35,
   "metadata": {},
   "outputs": [
    {
     "name": "stdout",
     "output_type": "stream",
     "text": [
      "Precision: 0.06763862332695984\n",
      "Recall: 0.5787321063394683\n",
      "Confusion matrix:\n",
      "[[10303  7802]\n",
      " [  412   566]]\n"
     ]
    }
   ],
   "source": [
    "from sklearn.metrics import precision_score, recall_score, confusion_matrix\n",
    "\n",
    "precision = precision_score(y_test, y_pred1)\n",
    "\n",
    "recall = recall_score(y_test, y_pred1)\n",
    "\n",
    "cm = confusion_matrix(y_test, y_pred1)\n",
    "\n",
    "print(\"Precision:\", precision)\n",
    "print(\"Recall:\", recall)\n",
    "print(\"Confusion matrix:\")\n",
    "print(cm)"
   ]
  },
  {
   "cell_type": "code",
   "execution_count": 36,
   "metadata": {},
   "outputs": [],
   "source": [
    "# new_y_pred1 = pd.Series(y_pred1)\n",
    "# new_y_pred1"
   ]
  },
  {
   "cell_type": "markdown",
   "metadata": {},
   "source": [
    "# Upsampling (oversampling)"
   ]
  },
  {
   "cell_type": "code",
   "execution_count": 37,
   "metadata": {},
   "outputs": [],
   "source": [
    "category_1_oversampled = resample(category_1,\n",
    "                                  replace=True,\n",
    "                                  n_samples = len(category_0))"
   ]
  },
  {
   "cell_type": "code",
   "execution_count": 38,
   "metadata": {},
   "outputs": [
    {
     "name": "stdout",
     "output_type": "stream",
     "text": [
      "(72464, 356)\n",
      "(72464, 356)\n"
     ]
    }
   ],
   "source": [
    "print(category_0.shape)\n",
    "print(category_1_oversampled.shape)"
   ]
  },
  {
   "cell_type": "code",
   "execution_count": 39,
   "metadata": {},
   "outputs": [
    {
     "data": {
      "text/plain": [
       "TARGET_B\n",
       "0    72464\n",
       "1    72464\n",
       "Name: count, dtype: int64"
      ]
     },
     "execution_count": 39,
     "metadata": {},
     "output_type": "execute_result"
    }
   ],
   "source": [
    "data_upsampled = pd.concat([category_0, category_1_oversampled], axis=0)\n",
    "data_upsampled['TARGET_B'].value_counts()"
   ]
  },
  {
   "cell_type": "code",
   "execution_count": 40,
   "metadata": {},
   "outputs": [
    {
     "data": {
      "text/html": [
       "<div>\n",
       "<style scoped>\n",
       "    .dataframe tbody tr th:only-of-type {\n",
       "        vertical-align: middle;\n",
       "    }\n",
       "\n",
       "    .dataframe tbody tr th {\n",
       "        vertical-align: top;\n",
       "    }\n",
       "\n",
       "    .dataframe thead th {\n",
       "        text-align: right;\n",
       "    }\n",
       "</style>\n",
       "<table border=\"1\" class=\"dataframe\">\n",
       "  <thead>\n",
       "    <tr style=\"text-align: right;\">\n",
       "      <th></th>\n",
       "      <th>TCODE</th>\n",
       "      <th>AGE</th>\n",
       "      <th>INCOME</th>\n",
       "      <th>WEALTH1</th>\n",
       "      <th>HIT</th>\n",
       "      <th>MALEMILI</th>\n",
       "      <th>MALEVET</th>\n",
       "      <th>VIETVETS</th>\n",
       "      <th>WWIIVETS</th>\n",
       "      <th>LOCALGOV</th>\n",
       "      <th>...</th>\n",
       "      <th>RFA_2A_F</th>\n",
       "      <th>RFA_2A_G</th>\n",
       "      <th>GEOCODE2_B</th>\n",
       "      <th>GEOCODE2_C</th>\n",
       "      <th>GEOCODE2_D</th>\n",
       "      <th>DOMAIN_A_R</th>\n",
       "      <th>DOMAIN_A_S</th>\n",
       "      <th>DOMAIN_A_T</th>\n",
       "      <th>DOMAIN_A_U</th>\n",
       "      <th>TARGET_B</th>\n",
       "    </tr>\n",
       "  </thead>\n",
       "  <tbody>\n",
       "    <tr>\n",
       "      <th>0</th>\n",
       "      <td>-0.054979</td>\n",
       "      <td>-1.360613</td>\n",
       "      <td>0.508956</td>\n",
       "      <td>0.349417</td>\n",
       "      <td>-0.250339</td>\n",
       "      <td>0.188977</td>\n",
       "      <td>-1.087130</td>\n",
       "      <td>1.281545</td>\n",
       "      <td>-1.450164</td>\n",
       "      <td>-0.875158</td>\n",
       "      <td>...</td>\n",
       "      <td>0.0</td>\n",
       "      <td>0.0</td>\n",
       "      <td>1.0</td>\n",
       "      <td>0.0</td>\n",
       "      <td>0.0</td>\n",
       "      <td>0.0</td>\n",
       "      <td>0.0</td>\n",
       "      <td>1.0</td>\n",
       "      <td>0.0</td>\n",
       "      <td>0</td>\n",
       "    </tr>\n",
       "    <tr>\n",
       "      <th>1</th>\n",
       "      <td>-0.055998</td>\n",
       "      <td>-0.003631</td>\n",
       "      <td>0.508956</td>\n",
       "      <td>0.718790</td>\n",
       "      <td>-0.357662</td>\n",
       "      <td>-0.208697</td>\n",
       "      <td>-0.651540</td>\n",
       "      <td>-0.045104</td>\n",
       "      <td>0.243243</td>\n",
       "      <td>-0.420006</td>\n",
       "      <td>...</td>\n",
       "      <td>0.0</td>\n",
       "      <td>0.0</td>\n",
       "      <td>1.0</td>\n",
       "      <td>0.0</td>\n",
       "      <td>0.0</td>\n",
       "      <td>1.0</td>\n",
       "      <td>0.0</td>\n",
       "      <td>0.0</td>\n",
       "      <td>0.0</td>\n",
       "      <td>0</td>\n",
       "    </tr>\n",
       "    <tr>\n",
       "      <th>2</th>\n",
       "      <td>-0.054979</td>\n",
       "      <td>-0.115145</td>\n",
       "      <td>-1.254835</td>\n",
       "      <td>0.718790</td>\n",
       "      <td>0.930209</td>\n",
       "      <td>-0.208697</td>\n",
       "      <td>-0.825776</td>\n",
       "      <td>1.878537</td>\n",
       "      <td>-1.845292</td>\n",
       "      <td>0.035146</td>\n",
       "      <td>...</td>\n",
       "      <td>0.0</td>\n",
       "      <td>0.0</td>\n",
       "      <td>0.0</td>\n",
       "      <td>0.0</td>\n",
       "      <td>0.0</td>\n",
       "      <td>0.0</td>\n",
       "      <td>0.0</td>\n",
       "      <td>0.0</td>\n",
       "      <td>0.0</td>\n",
       "      <td>0</td>\n",
       "    </tr>\n",
       "    <tr>\n",
       "      <th>4</th>\n",
       "      <td>-0.054979</td>\n",
       "      <td>-0.003631</td>\n",
       "      <td>-1.254835</td>\n",
       "      <td>-1.866826</td>\n",
       "      <td>-0.357662</td>\n",
       "      <td>-0.208697</td>\n",
       "      <td>-0.303068</td>\n",
       "      <td>1.148880</td>\n",
       "      <td>-0.772801</td>\n",
       "      <td>-1.102734</td>\n",
       "      <td>...</td>\n",
       "      <td>0.0</td>\n",
       "      <td>1.0</td>\n",
       "      <td>0.0</td>\n",
       "      <td>1.0</td>\n",
       "      <td>0.0</td>\n",
       "      <td>1.0</td>\n",
       "      <td>0.0</td>\n",
       "      <td>0.0</td>\n",
       "      <td>0.0</td>\n",
       "      <td>0</td>\n",
       "    </tr>\n",
       "    <tr>\n",
       "      <th>5</th>\n",
       "      <td>-0.055998</td>\n",
       "      <td>-1.083842</td>\n",
       "      <td>-1.254835</td>\n",
       "      <td>0.718790</td>\n",
       "      <td>-0.357662</td>\n",
       "      <td>-0.208697</td>\n",
       "      <td>0.306758</td>\n",
       "      <td>-0.310433</td>\n",
       "      <td>0.299690</td>\n",
       "      <td>1.400602</td>\n",
       "      <td>...</td>\n",
       "      <td>0.0</td>\n",
       "      <td>0.0</td>\n",
       "      <td>0.0</td>\n",
       "      <td>0.0</td>\n",
       "      <td>1.0</td>\n",
       "      <td>1.0</td>\n",
       "      <td>0.0</td>\n",
       "      <td>0.0</td>\n",
       "      <td>0.0</td>\n",
       "      <td>0</td>\n",
       "    </tr>\n",
       "    <tr>\n",
       "      <th>...</th>\n",
       "      <td>...</td>\n",
       "      <td>...</td>\n",
       "      <td>...</td>\n",
       "      <td>...</td>\n",
       "      <td>...</td>\n",
       "      <td>...</td>\n",
       "      <td>...</td>\n",
       "      <td>...</td>\n",
       "      <td>...</td>\n",
       "      <td>...</td>\n",
       "      <td>...</td>\n",
       "      <td>...</td>\n",
       "      <td>...</td>\n",
       "      <td>...</td>\n",
       "      <td>...</td>\n",
       "      <td>...</td>\n",
       "      <td>...</td>\n",
       "      <td>...</td>\n",
       "      <td>...</td>\n",
       "      <td>...</td>\n",
       "      <td>...</td>\n",
       "    </tr>\n",
       "    <tr>\n",
       "      <th>13876</th>\n",
       "      <td>-0.055998</td>\n",
       "      <td>-1.498999</td>\n",
       "      <td>0.508956</td>\n",
       "      <td>0.718790</td>\n",
       "      <td>-0.357662</td>\n",
       "      <td>0.586651</td>\n",
       "      <td>0.045404</td>\n",
       "      <td>-0.111436</td>\n",
       "      <td>0.243243</td>\n",
       "      <td>0.262722</td>\n",
       "      <td>...</td>\n",
       "      <td>1.0</td>\n",
       "      <td>0.0</td>\n",
       "      <td>1.0</td>\n",
       "      <td>0.0</td>\n",
       "      <td>0.0</td>\n",
       "      <td>0.0</td>\n",
       "      <td>1.0</td>\n",
       "      <td>0.0</td>\n",
       "      <td>0.0</td>\n",
       "      <td>1</td>\n",
       "    </tr>\n",
       "    <tr>\n",
       "      <th>69639</th>\n",
       "      <td>-0.053960</td>\n",
       "      <td>-0.668686</td>\n",
       "      <td>1.684816</td>\n",
       "      <td>0.349417</td>\n",
       "      <td>-0.250339</td>\n",
       "      <td>-0.208697</td>\n",
       "      <td>-0.477304</td>\n",
       "      <td>0.286559</td>\n",
       "      <td>-0.942142</td>\n",
       "      <td>1.628178</td>\n",
       "      <td>...</td>\n",
       "      <td>0.0</td>\n",
       "      <td>0.0</td>\n",
       "      <td>0.0</td>\n",
       "      <td>0.0</td>\n",
       "      <td>0.0</td>\n",
       "      <td>0.0</td>\n",
       "      <td>0.0</td>\n",
       "      <td>0.0</td>\n",
       "      <td>1.0</td>\n",
       "      <td>1</td>\n",
       "    </tr>\n",
       "    <tr>\n",
       "      <th>15625</th>\n",
       "      <td>-0.055998</td>\n",
       "      <td>0.023240</td>\n",
       "      <td>-1.842765</td>\n",
       "      <td>0.718790</td>\n",
       "      <td>-0.357662</td>\n",
       "      <td>-0.208697</td>\n",
       "      <td>0.132522</td>\n",
       "      <td>0.087561</td>\n",
       "      <td>0.356137</td>\n",
       "      <td>-0.647582</td>\n",
       "      <td>...</td>\n",
       "      <td>0.0</td>\n",
       "      <td>0.0</td>\n",
       "      <td>0.0</td>\n",
       "      <td>1.0</td>\n",
       "      <td>0.0</td>\n",
       "      <td>1.0</td>\n",
       "      <td>0.0</td>\n",
       "      <td>0.0</td>\n",
       "      <td>0.0</td>\n",
       "      <td>1</td>\n",
       "    </tr>\n",
       "    <tr>\n",
       "      <th>55231</th>\n",
       "      <td>-0.027471</td>\n",
       "      <td>-1.498999</td>\n",
       "      <td>0.508956</td>\n",
       "      <td>0.718790</td>\n",
       "      <td>-0.357662</td>\n",
       "      <td>-0.208697</td>\n",
       "      <td>0.045404</td>\n",
       "      <td>0.087561</td>\n",
       "      <td>-0.547013</td>\n",
       "      <td>0.262722</td>\n",
       "      <td>...</td>\n",
       "      <td>1.0</td>\n",
       "      <td>0.0</td>\n",
       "      <td>0.0</td>\n",
       "      <td>1.0</td>\n",
       "      <td>0.0</td>\n",
       "      <td>0.0</td>\n",
       "      <td>0.0</td>\n",
       "      <td>0.0</td>\n",
       "      <td>0.0</td>\n",
       "      <td>1</td>\n",
       "    </tr>\n",
       "    <tr>\n",
       "      <th>28676</th>\n",
       "      <td>-0.055998</td>\n",
       "      <td>0.922745</td>\n",
       "      <td>-1.254835</td>\n",
       "      <td>-1.866826</td>\n",
       "      <td>-0.143017</td>\n",
       "      <td>-0.208697</td>\n",
       "      <td>0.132522</td>\n",
       "      <td>-0.111436</td>\n",
       "      <td>0.469031</td>\n",
       "      <td>4.586666</td>\n",
       "      <td>...</td>\n",
       "      <td>0.0</td>\n",
       "      <td>0.0</td>\n",
       "      <td>0.0</td>\n",
       "      <td>0.0</td>\n",
       "      <td>0.0</td>\n",
       "      <td>0.0</td>\n",
       "      <td>0.0</td>\n",
       "      <td>0.0</td>\n",
       "      <td>1.0</td>\n",
       "      <td>1</td>\n",
       "    </tr>\n",
       "  </tbody>\n",
       "</table>\n",
       "<p>144928 rows × 356 columns</p>\n",
       "</div>"
      ],
      "text/plain": [
       "          TCODE       AGE    INCOME   WEALTH1       HIT  MALEMILI   MALEVET  \\\n",
       "0     -0.054979 -1.360613  0.508956  0.349417 -0.250339  0.188977 -1.087130   \n",
       "1     -0.055998 -0.003631  0.508956  0.718790 -0.357662 -0.208697 -0.651540   \n",
       "2     -0.054979 -0.115145 -1.254835  0.718790  0.930209 -0.208697 -0.825776   \n",
       "4     -0.054979 -0.003631 -1.254835 -1.866826 -0.357662 -0.208697 -0.303068   \n",
       "5     -0.055998 -1.083842 -1.254835  0.718790 -0.357662 -0.208697  0.306758   \n",
       "...         ...       ...       ...       ...       ...       ...       ...   \n",
       "13876 -0.055998 -1.498999  0.508956  0.718790 -0.357662  0.586651  0.045404   \n",
       "69639 -0.053960 -0.668686  1.684816  0.349417 -0.250339 -0.208697 -0.477304   \n",
       "15625 -0.055998  0.023240 -1.842765  0.718790 -0.357662 -0.208697  0.132522   \n",
       "55231 -0.027471 -1.498999  0.508956  0.718790 -0.357662 -0.208697  0.045404   \n",
       "28676 -0.055998  0.922745 -1.254835 -1.866826 -0.143017 -0.208697  0.132522   \n",
       "\n",
       "       VIETVETS  WWIIVETS  LOCALGOV  ...  RFA_2A_F  RFA_2A_G  GEOCODE2_B  \\\n",
       "0      1.281545 -1.450164 -0.875158  ...       0.0       0.0         1.0   \n",
       "1     -0.045104  0.243243 -0.420006  ...       0.0       0.0         1.0   \n",
       "2      1.878537 -1.845292  0.035146  ...       0.0       0.0         0.0   \n",
       "4      1.148880 -0.772801 -1.102734  ...       0.0       1.0         0.0   \n",
       "5     -0.310433  0.299690  1.400602  ...       0.0       0.0         0.0   \n",
       "...         ...       ...       ...  ...       ...       ...         ...   \n",
       "13876 -0.111436  0.243243  0.262722  ...       1.0       0.0         1.0   \n",
       "69639  0.286559 -0.942142  1.628178  ...       0.0       0.0         0.0   \n",
       "15625  0.087561  0.356137 -0.647582  ...       0.0       0.0         0.0   \n",
       "55231  0.087561 -0.547013  0.262722  ...       1.0       0.0         0.0   \n",
       "28676 -0.111436  0.469031  4.586666  ...       0.0       0.0         0.0   \n",
       "\n",
       "       GEOCODE2_C  GEOCODE2_D  DOMAIN_A_R  DOMAIN_A_S  DOMAIN_A_T  DOMAIN_A_U  \\\n",
       "0             0.0         0.0         0.0         0.0         1.0         0.0   \n",
       "1             0.0         0.0         1.0         0.0         0.0         0.0   \n",
       "2             0.0         0.0         0.0         0.0         0.0         0.0   \n",
       "4             1.0         0.0         1.0         0.0         0.0         0.0   \n",
       "5             0.0         1.0         1.0         0.0         0.0         0.0   \n",
       "...           ...         ...         ...         ...         ...         ...   \n",
       "13876         0.0         0.0         0.0         1.0         0.0         0.0   \n",
       "69639         0.0         0.0         0.0         0.0         0.0         1.0   \n",
       "15625         1.0         0.0         1.0         0.0         0.0         0.0   \n",
       "55231         1.0         0.0         0.0         0.0         0.0         0.0   \n",
       "28676         0.0         0.0         0.0         0.0         0.0         1.0   \n",
       "\n",
       "       TARGET_B  \n",
       "0             0  \n",
       "1             0  \n",
       "2             0  \n",
       "4             0  \n",
       "5             0  \n",
       "...         ...  \n",
       "13876         1  \n",
       "69639         1  \n",
       "15625         1  \n",
       "55231         1  \n",
       "28676         1  \n",
       "\n",
       "[144928 rows x 356 columns]"
      ]
     },
     "execution_count": 40,
     "metadata": {},
     "output_type": "execute_result"
    }
   ],
   "source": [
    "data_upsampled"
   ]
  },
  {
   "cell_type": "code",
   "execution_count": 41,
   "metadata": {},
   "outputs": [],
   "source": [
    "y_train_u = data_upsampled[\"TARGET_B\"]\n",
    "data_upsampled.drop(\"TARGET_B\", axis =1,inplace =True)"
   ]
  },
  {
   "cell_type": "code",
   "execution_count": 42,
   "metadata": {},
   "outputs": [
    {
     "name": "stderr",
     "output_type": "stream",
     "text": [
      "C:\\Users\\Denish\\anaconda1\\Lib\\site-packages\\sklearn\\linear_model\\_logistic.py:469: ConvergenceWarning: lbfgs failed to converge (status=1):\n",
      "STOP: TOTAL NO. of ITERATIONS REACHED LIMIT.\n",
      "\n",
      "Increase the number of iterations (max_iter) or scale the data as shown in:\n",
      "    https://scikit-learn.org/stable/modules/preprocessing.html\n",
      "Please also refer to the documentation for alternative solver options:\n",
      "    https://scikit-learn.org/stable/modules/linear_model.html#logistic-regression\n",
      "  n_iter_i = _check_optimize_result(\n"
     ]
    }
   ],
   "source": [
    "model2 = LogisticRegression()\n",
    "model2.fit(data_upsampled, y_train_u)\n",
    "y_pred2 = model2.predict(X_test_r)"
   ]
  },
  {
   "cell_type": "code",
   "execution_count": 43,
   "metadata": {},
   "outputs": [
    {
     "name": "stdout",
     "output_type": "stream",
     "text": [
      "Precision: 0.07194050033806626\n",
      "Recall: 0.5439672801635992\n",
      "Confusion matrix:\n",
      "[[11242  6863]\n",
      " [  446   532]]\n"
     ]
    }
   ],
   "source": [
    "from sklearn.metrics import precision_score, recall_score, confusion_matrix\n",
    "\n",
    "precision_u = precision_score(y_test, y_pred2)\n",
    "\n",
    "recall_u = recall_score(y_test, y_pred2)\n",
    "\n",
    "cm_u = confusion_matrix(y_test, y_pred2)\n",
    "\n",
    "print(\"Precision:\", precision_u)\n",
    "print(\"Recall:\", recall_u)\n",
    "print(\"Confusion matrix:\")\n",
    "print(cm_u)"
   ]
  },
  {
   "cell_type": "code",
   "execution_count": 44,
   "metadata": {},
   "outputs": [
    {
     "name": "stdout",
     "output_type": "stream",
     "text": [
      "0.6172306248620004\n",
      "0.6077660745165855\n"
     ]
    },
    {
     "data": {
      "text/plain": [
       "TARGET_B\n",
       "0    18105\n",
       "1      978\n",
       "Name: count, dtype: int64"
      ]
     },
     "metadata": {},
     "output_type": "display_data"
    },
    {
     "data": {
      "text/plain": [
       "array([[11048,  7057],\n",
       "       [  428,   550]], dtype=int64)"
      ]
     },
     "metadata": {},
     "output_type": "display_data"
    }
   ],
   "source": [
    "from sklearn.ensemble import RandomForestClassifier\n",
    "from sklearn.metrics import confusion_matrix\n",
    "\n",
    "clf = RandomForestClassifier(max_depth=5, # max number of questions to ask\n",
    "                             min_samples_split=20, # amount of rows still considered at every question\n",
    "                             min_samples_leaf =20, # ultimate answer based on at least this many rows\n",
    "                             max_samples=0.8, # fraction of X-train to use in each tree\n",
    "                             random_state=42)\n",
    "clf.fit(data_upsampled, y_train_u)\n",
    "print(clf.score(data_upsampled, y_train_u))\n",
    "print(clf.score(X_test_r, y_test))\n",
    "\n",
    "y_pred = clf.predict(X_test_r)\n",
    "display(y_test.value_counts())\n",
    "display(confusion_matrix(y_test, y_pred))"
   ]
  },
  {
   "cell_type": "markdown",
   "metadata": {},
   "source": [
    "# Feature Selection"
   ]
  },
  {
   "cell_type": "code",
   "execution_count": null,
   "metadata": {},
   "outputs": [],
   "source": [
    "# from sklearn.preprocessing import MinMaxScaler\n",
    "# # scaler = MinMaxScaler()\n",
    "# # numerical_scaled = scaler.fit_transform(numerical)\n",
    "\n",
    "# scaler = MinMaxScaler().fit(num)\n",
    "# numerical_scaled = pd.DataFrame(scaler.fit_transform(num),columns = num.columns)\n",
    "# #X_test_scale = pd.DataFrame(transformer.transform(test_num),columns = test_num.columns)"
   ]
  },
  {
   "cell_type": "code",
   "execution_count": 45,
   "metadata": {},
   "outputs": [],
   "source": [
    "#data_upsampled\n",
    "\n",
    "from sklearn.preprocessing import MinMaxScaler\n",
    "\n",
    "\n",
    "scaler = MinMaxScaler().fit(data_upsampled)\n",
    "numerical_scaled = pd.DataFrame(scaler.fit_transform(data_upsampled),columns = data_upsampled.columns)\n",
    "#X_test_scale = pd.DataFrame(transformer.transform(test_num),columns = test_num.columns)"
   ]
  },
  {
   "cell_type": "code",
   "execution_count": 46,
   "metadata": {},
   "outputs": [
    {
     "data": {
      "text/plain": [
       "(144928, 355)"
      ]
     },
     "execution_count": 46,
     "metadata": {},
     "output_type": "execute_result"
    }
   ],
   "source": [
    "numerical_scaled.shape"
   ]
  },
  {
   "cell_type": "code",
   "execution_count": 170,
   "metadata": {},
   "outputs": [
    {
     "data": {
      "text/html": [
       "<div>\n",
       "<style scoped>\n",
       "    .dataframe tbody tr th:only-of-type {\n",
       "        vertical-align: middle;\n",
       "    }\n",
       "\n",
       "    .dataframe tbody tr th {\n",
       "        vertical-align: top;\n",
       "    }\n",
       "\n",
       "    .dataframe thead th {\n",
       "        text-align: right;\n",
       "    }\n",
       "</style>\n",
       "<table border=\"1\" class=\"dataframe\">\n",
       "  <thead>\n",
       "    <tr style=\"text-align: right;\">\n",
       "      <th></th>\n",
       "      <th>0</th>\n",
       "      <th>1</th>\n",
       "      <th>2</th>\n",
       "      <th>3</th>\n",
       "      <th>4</th>\n",
       "      <th>5</th>\n",
       "      <th>6</th>\n",
       "      <th>7</th>\n",
       "      <th>8</th>\n",
       "      <th>9</th>\n",
       "      <th>...</th>\n",
       "      <th>20</th>\n",
       "      <th>21</th>\n",
       "      <th>22</th>\n",
       "      <th>23</th>\n",
       "      <th>24</th>\n",
       "      <th>25</th>\n",
       "      <th>26</th>\n",
       "      <th>27</th>\n",
       "      <th>28</th>\n",
       "      <th>29</th>\n",
       "    </tr>\n",
       "  </thead>\n",
       "  <tbody>\n",
       "    <tr>\n",
       "      <th>0</th>\n",
       "      <td>0.080808</td>\n",
       "      <td>0.136667</td>\n",
       "      <td>0.136000</td>\n",
       "      <td>0.036364</td>\n",
       "      <td>0.060606</td>\n",
       "      <td>0.010101</td>\n",
       "      <td>0.010101</td>\n",
       "      <td>0.111111</td>\n",
       "      <td>0.656566</td>\n",
       "      <td>0.0</td>\n",
       "      <td>...</td>\n",
       "      <td>0.0</td>\n",
       "      <td>0.272727</td>\n",
       "      <td>0.0</td>\n",
       "      <td>0.909091</td>\n",
       "      <td>0.0</td>\n",
       "      <td>1.0</td>\n",
       "      <td>1.0</td>\n",
       "      <td>0.0</td>\n",
       "      <td>0.0</td>\n",
       "      <td>0.0</td>\n",
       "    </tr>\n",
       "    <tr>\n",
       "      <th>1</th>\n",
       "      <td>0.272727</td>\n",
       "      <td>0.086333</td>\n",
       "      <td>0.094167</td>\n",
       "      <td>0.145455</td>\n",
       "      <td>0.161616</td>\n",
       "      <td>0.010101</td>\n",
       "      <td>0.020202</td>\n",
       "      <td>0.070707</td>\n",
       "      <td>0.212121</td>\n",
       "      <td>0.0</td>\n",
       "      <td>...</td>\n",
       "      <td>0.0</td>\n",
       "      <td>0.090909</td>\n",
       "      <td>0.5</td>\n",
       "      <td>0.181818</td>\n",
       "      <td>0.0</td>\n",
       "      <td>0.0</td>\n",
       "      <td>1.0</td>\n",
       "      <td>0.0</td>\n",
       "      <td>0.0</td>\n",
       "      <td>0.0</td>\n",
       "    </tr>\n",
       "    <tr>\n",
       "      <th>2</th>\n",
       "      <td>0.151515</td>\n",
       "      <td>0.195833</td>\n",
       "      <td>0.197167</td>\n",
       "      <td>0.072727</td>\n",
       "      <td>0.101010</td>\n",
       "      <td>0.000000</td>\n",
       "      <td>0.030303</td>\n",
       "      <td>0.828283</td>\n",
       "      <td>1.000000</td>\n",
       "      <td>0.0</td>\n",
       "      <td>...</td>\n",
       "      <td>0.0</td>\n",
       "      <td>0.545455</td>\n",
       "      <td>0.5</td>\n",
       "      <td>0.181818</td>\n",
       "      <td>0.0</td>\n",
       "      <td>1.0</td>\n",
       "      <td>1.0</td>\n",
       "      <td>0.0</td>\n",
       "      <td>0.0</td>\n",
       "      <td>0.0</td>\n",
       "    </tr>\n",
       "    <tr>\n",
       "      <th>3</th>\n",
       "      <td>0.000000</td>\n",
       "      <td>0.068000</td>\n",
       "      <td>0.074833</td>\n",
       "      <td>0.000000</td>\n",
       "      <td>0.000000</td>\n",
       "      <td>0.000000</td>\n",
       "      <td>0.010101</td>\n",
       "      <td>0.030303</td>\n",
       "      <td>0.101010</td>\n",
       "      <td>0.0</td>\n",
       "      <td>...</td>\n",
       "      <td>0.0</td>\n",
       "      <td>0.090909</td>\n",
       "      <td>0.5</td>\n",
       "      <td>0.090909</td>\n",
       "      <td>0.0</td>\n",
       "      <td>1.0</td>\n",
       "      <td>0.0</td>\n",
       "      <td>0.0</td>\n",
       "      <td>1.0</td>\n",
       "      <td>0.0</td>\n",
       "    </tr>\n",
       "    <tr>\n",
       "      <th>4</th>\n",
       "      <td>0.000000</td>\n",
       "      <td>0.046500</td>\n",
       "      <td>0.054667</td>\n",
       "      <td>0.000000</td>\n",
       "      <td>0.000000</td>\n",
       "      <td>0.000000</td>\n",
       "      <td>0.010101</td>\n",
       "      <td>0.010101</td>\n",
       "      <td>0.050505</td>\n",
       "      <td>0.0</td>\n",
       "      <td>...</td>\n",
       "      <td>0.0</td>\n",
       "      <td>0.818182</td>\n",
       "      <td>0.0</td>\n",
       "      <td>0.727273</td>\n",
       "      <td>0.0</td>\n",
       "      <td>1.0</td>\n",
       "      <td>0.0</td>\n",
       "      <td>0.0</td>\n",
       "      <td>0.0</td>\n",
       "      <td>0.0</td>\n",
       "    </tr>\n",
       "  </tbody>\n",
       "</table>\n",
       "<p>5 rows × 30 columns</p>\n",
       "</div>"
      ],
      "text/plain": [
       "         0         1         2         3         4         5         6   \\\n",
       "0  0.080808  0.136667  0.136000  0.036364  0.060606  0.010101  0.010101   \n",
       "1  0.272727  0.086333  0.094167  0.145455  0.161616  0.010101  0.020202   \n",
       "2  0.151515  0.195833  0.197167  0.072727  0.101010  0.000000  0.030303   \n",
       "3  0.000000  0.068000  0.074833  0.000000  0.000000  0.000000  0.010101   \n",
       "4  0.000000  0.046500  0.054667  0.000000  0.000000  0.000000  0.010101   \n",
       "\n",
       "         7         8    9   ...   20        21   22        23   24   25   26  \\\n",
       "0  0.111111  0.656566  0.0  ...  0.0  0.272727  0.0  0.909091  0.0  1.0  1.0   \n",
       "1  0.070707  0.212121  0.0  ...  0.0  0.090909  0.5  0.181818  0.0  0.0  1.0   \n",
       "2  0.828283  1.000000  0.0  ...  0.0  0.545455  0.5  0.181818  0.0  1.0  1.0   \n",
       "3  0.030303  0.101010  0.0  ...  0.0  0.090909  0.5  0.090909  0.0  1.0  0.0   \n",
       "4  0.010101  0.050505  0.0  ...  0.0  0.818182  0.0  0.727273  0.0  1.0  0.0   \n",
       "\n",
       "    27   28   29  \n",
       "0  0.0  0.0  0.0  \n",
       "1  0.0  0.0  0.0  \n",
       "2  0.0  0.0  0.0  \n",
       "3  0.0  1.0  0.0  \n",
       "4  0.0  0.0  0.0  \n",
       "\n",
       "[5 rows x 30 columns]"
      ]
     },
     "execution_count": 170,
     "metadata": {},
     "output_type": "execute_result"
    }
   ],
   "source": [
    "X = numerical_scaled\n",
    "#y = target['TARGET_B']\n",
    "y = y_train_u\n",
    "\n",
    "from sklearn.feature_selection import SelectKBest\n",
    "from sklearn.feature_selection import chi2\n",
    "kbestdf = SelectKBest(chi2, k=30).fit_transform(X, y)\n",
    "# Here we choose 10 so that is easier to analyze results later, as we will see\n",
    "selected = pd.DataFrame(kbestdf)\n",
    "selected.head()"
   ]
  },
  {
   "cell_type": "code",
   "execution_count": 171,
   "metadata": {},
   "outputs": [
    {
     "data": {
      "text/html": [
       "<div>\n",
       "<style scoped>\n",
       "    .dataframe tbody tr th:only-of-type {\n",
       "        vertical-align: middle;\n",
       "    }\n",
       "\n",
       "    .dataframe tbody tr th {\n",
       "        vertical-align: top;\n",
       "    }\n",
       "\n",
       "    .dataframe thead th {\n",
       "        text-align: right;\n",
       "    }\n",
       "</style>\n",
       "<table border=\"1\" class=\"dataframe\">\n",
       "  <thead>\n",
       "    <tr style=\"text-align: right;\">\n",
       "      <th></th>\n",
       "      <th>score</th>\n",
       "      <th>Column</th>\n",
       "    </tr>\n",
       "  </thead>\n",
       "  <tbody>\n",
       "    <tr>\n",
       "      <th>0</th>\n",
       "      <td>0.839294</td>\n",
       "      <td>TCODE</td>\n",
       "    </tr>\n",
       "    <tr>\n",
       "      <th>1</th>\n",
       "      <td>2.213949</td>\n",
       "      <td>AGE</td>\n",
       "    </tr>\n",
       "    <tr>\n",
       "      <th>2</th>\n",
       "      <td>33.223460</td>\n",
       "      <td>INCOME</td>\n",
       "    </tr>\n",
       "    <tr>\n",
       "      <th>3</th>\n",
       "      <td>5.095618</td>\n",
       "      <td>WEALTH1</td>\n",
       "    </tr>\n",
       "    <tr>\n",
       "      <th>4</th>\n",
       "      <td>3.686993</td>\n",
       "      <td>HIT</td>\n",
       "    </tr>\n",
       "    <tr>\n",
       "      <th>...</th>\n",
       "      <td>...</td>\n",
       "      <td>...</td>\n",
       "    </tr>\n",
       "    <tr>\n",
       "      <th>350</th>\n",
       "      <td>12.234160</td>\n",
       "      <td>GEOCODE2_D</td>\n",
       "    </tr>\n",
       "    <tr>\n",
       "      <th>351</th>\n",
       "      <td>33.062241</td>\n",
       "      <td>DOMAIN_A_R</td>\n",
       "    </tr>\n",
       "    <tr>\n",
       "      <th>352</th>\n",
       "      <td>54.731847</td>\n",
       "      <td>DOMAIN_A_S</td>\n",
       "    </tr>\n",
       "    <tr>\n",
       "      <th>353</th>\n",
       "      <td>0.032299</td>\n",
       "      <td>DOMAIN_A_T</td>\n",
       "    </tr>\n",
       "    <tr>\n",
       "      <th>354</th>\n",
       "      <td>13.606281</td>\n",
       "      <td>DOMAIN_A_U</td>\n",
       "    </tr>\n",
       "  </tbody>\n",
       "</table>\n",
       "<p>355 rows × 2 columns</p>\n",
       "</div>"
      ],
      "text/plain": [
       "         score      Column\n",
       "0     0.839294       TCODE\n",
       "1     2.213949         AGE\n",
       "2    33.223460      INCOME\n",
       "3     5.095618     WEALTH1\n",
       "4     3.686993         HIT\n",
       "..         ...         ...\n",
       "350  12.234160  GEOCODE2_D\n",
       "351  33.062241  DOMAIN_A_R\n",
       "352  54.731847  DOMAIN_A_S\n",
       "353   0.032299  DOMAIN_A_T\n",
       "354  13.606281  DOMAIN_A_U\n",
       "\n",
       "[355 rows x 2 columns]"
      ]
     },
     "execution_count": 171,
     "metadata": {},
     "output_type": "execute_result"
    }
   ],
   "source": [
    "kbest = SelectKBest(chi2, k=30).fit(X, y)\n",
    "df = pd.DataFrame(data = kbest.scores_, columns = ['score'])\n",
    "df['Column'] = data_upsampled.columns\n",
    "df"
   ]
  },
  {
   "cell_type": "code",
   "execution_count": 172,
   "metadata": {},
   "outputs": [
    {
     "data": {
      "text/html": [
       "<div>\n",
       "<style scoped>\n",
       "    .dataframe tbody tr th:only-of-type {\n",
       "        vertical-align: middle;\n",
       "    }\n",
       "\n",
       "    .dataframe tbody tr th {\n",
       "        vertical-align: top;\n",
       "    }\n",
       "\n",
       "    .dataframe thead th {\n",
       "        text-align: right;\n",
       "    }\n",
       "</style>\n",
       "<table border=\"1\" class=\"dataframe\">\n",
       "  <thead>\n",
       "    <tr style=\"text-align: right;\">\n",
       "      <th></th>\n",
       "      <th>score</th>\n",
       "      <th>Column</th>\n",
       "    </tr>\n",
       "  </thead>\n",
       "  <tbody>\n",
       "    <tr>\n",
       "      <th>313</th>\n",
       "      <td>1325.890979</td>\n",
       "      <td>RFA_2F</td>\n",
       "    </tr>\n",
       "    <tr>\n",
       "      <th>347</th>\n",
       "      <td>809.822411</td>\n",
       "      <td>RFA_2A_G</td>\n",
       "    </tr>\n",
       "    <tr>\n",
       "      <th>345</th>\n",
       "      <td>586.304981</td>\n",
       "      <td>RFA_2A_E</td>\n",
       "    </tr>\n",
       "    <tr>\n",
       "      <th>346</th>\n",
       "      <td>360.591493</td>\n",
       "      <td>RFA_2A_F</td>\n",
       "    </tr>\n",
       "    <tr>\n",
       "      <th>325</th>\n",
       "      <td>330.320044</td>\n",
       "      <td>LASTDATE_YR</td>\n",
       "    </tr>\n",
       "    <tr>\n",
       "      <th>111</th>\n",
       "      <td>188.984070</td>\n",
       "      <td>HVP2</td>\n",
       "    </tr>\n",
       "    <tr>\n",
       "      <th>110</th>\n",
       "      <td>188.048842</td>\n",
       "      <td>HVP1</td>\n",
       "    </tr>\n",
       "    <tr>\n",
       "      <th>305</th>\n",
       "      <td>182.930724</td>\n",
       "      <td>CARDGIFT</td>\n",
       "    </tr>\n",
       "    <tr>\n",
       "      <th>112</th>\n",
       "      <td>167.771978</td>\n",
       "      <td>HVP3</td>\n",
       "    </tr>\n",
       "    <tr>\n",
       "      <th>115</th>\n",
       "      <td>138.053224</td>\n",
       "      <td>HVP6</td>\n",
       "    </tr>\n",
       "    <tr>\n",
       "      <th>22</th>\n",
       "      <td>121.982222</td>\n",
       "      <td>ETH2</td>\n",
       "    </tr>\n",
       "    <tr>\n",
       "      <th>113</th>\n",
       "      <td>109.900912</td>\n",
       "      <td>HVP4</td>\n",
       "    </tr>\n",
       "    <tr>\n",
       "      <th>129</th>\n",
       "      <td>97.227573</td>\n",
       "      <td>RP1</td>\n",
       "    </tr>\n",
       "    <tr>\n",
       "      <th>130</th>\n",
       "      <td>84.805948</td>\n",
       "      <td>RP2</td>\n",
       "    </tr>\n",
       "    <tr>\n",
       "      <th>340</th>\n",
       "      <td>81.345570</td>\n",
       "      <td>HOMEOWNR_U</td>\n",
       "    </tr>\n",
       "    <tr>\n",
       "      <th>317</th>\n",
       "      <td>76.043235</td>\n",
       "      <td>ODATEW_YR</td>\n",
       "    </tr>\n",
       "    <tr>\n",
       "      <th>108</th>\n",
       "      <td>70.180982</td>\n",
       "      <td>ETHC5</td>\n",
       "    </tr>\n",
       "    <tr>\n",
       "      <th>107</th>\n",
       "      <td>63.842982</td>\n",
       "      <td>ETHC4</td>\n",
       "    </tr>\n",
       "    <tr>\n",
       "      <th>83</th>\n",
       "      <td>62.325437</td>\n",
       "      <td>HV1</td>\n",
       "    </tr>\n",
       "    <tr>\n",
       "      <th>84</th>\n",
       "      <td>62.166942</td>\n",
       "      <td>HV2</td>\n",
       "    </tr>\n",
       "    <tr>\n",
       "      <th>304</th>\n",
       "      <td>60.264776</td>\n",
       "      <td>NGIFTALL</td>\n",
       "    </tr>\n",
       "    <tr>\n",
       "      <th>320</th>\n",
       "      <td>54.804680</td>\n",
       "      <td>DOB_MM</td>\n",
       "    </tr>\n",
       "    <tr>\n",
       "      <th>352</th>\n",
       "      <td>54.731847</td>\n",
       "      <td>DOMAIN_A_S</td>\n",
       "    </tr>\n",
       "    <tr>\n",
       "      <th>299</th>\n",
       "      <td>53.073360</td>\n",
       "      <td>CARDPROM</td>\n",
       "    </tr>\n",
       "    <tr>\n",
       "      <th>300</th>\n",
       "      <td>52.315015</td>\n",
       "      <td>NUMPROM</td>\n",
       "    </tr>\n",
       "    <tr>\n",
       "      <th>314</th>\n",
       "      <td>46.557743</td>\n",
       "      <td>CLUSTER2</td>\n",
       "    </tr>\n",
       "    <tr>\n",
       "      <th>330</th>\n",
       "      <td>45.897737</td>\n",
       "      <td>STATE_GA</td>\n",
       "    </tr>\n",
       "    <tr>\n",
       "      <th>326</th>\n",
       "      <td>45.646023</td>\n",
       "      <td>LASTDATE_MM</td>\n",
       "    </tr>\n",
       "    <tr>\n",
       "      <th>131</th>\n",
       "      <td>45.596917</td>\n",
       "      <td>RP3</td>\n",
       "    </tr>\n",
       "    <tr>\n",
       "      <th>318</th>\n",
       "      <td>44.111813</td>\n",
       "      <td>ODATEW_MM</td>\n",
       "    </tr>\n",
       "  </tbody>\n",
       "</table>\n",
       "</div>"
      ],
      "text/plain": [
       "           score       Column\n",
       "313  1325.890979       RFA_2F\n",
       "347   809.822411     RFA_2A_G\n",
       "345   586.304981     RFA_2A_E\n",
       "346   360.591493     RFA_2A_F\n",
       "325   330.320044  LASTDATE_YR\n",
       "111   188.984070         HVP2\n",
       "110   188.048842         HVP1\n",
       "305   182.930724     CARDGIFT\n",
       "112   167.771978         HVP3\n",
       "115   138.053224         HVP6\n",
       "22    121.982222         ETH2\n",
       "113   109.900912         HVP4\n",
       "129    97.227573          RP1\n",
       "130    84.805948          RP2\n",
       "340    81.345570   HOMEOWNR_U\n",
       "317    76.043235    ODATEW_YR\n",
       "108    70.180982        ETHC5\n",
       "107    63.842982        ETHC4\n",
       "83     62.325437          HV1\n",
       "84     62.166942          HV2\n",
       "304    60.264776     NGIFTALL\n",
       "320    54.804680       DOB_MM\n",
       "352    54.731847   DOMAIN_A_S\n",
       "299    53.073360     CARDPROM\n",
       "300    52.315015      NUMPROM\n",
       "314    46.557743     CLUSTER2\n",
       "330    45.897737     STATE_GA\n",
       "326    45.646023  LASTDATE_MM\n",
       "131    45.596917          RP3\n",
       "318    44.111813    ODATEW_MM"
      ]
     },
     "execution_count": 172,
     "metadata": {},
     "output_type": "execute_result"
    }
   ],
   "source": [
    "df.sort_values(by = ['score'], ascending = False).head(30)"
   ]
  },
  {
   "cell_type": "code",
   "execution_count": 180,
   "metadata": {},
   "outputs": [],
   "source": [
    "cols = df.sort_values(by = ['score'], ascending = False).head(30)['Column']\n",
    "col = list(cols)"
   ]
  },
  {
   "cell_type": "code",
   "execution_count": 181,
   "metadata": {},
   "outputs": [],
   "source": [
    "data_upsampled_fS = data_upsampled[col]"
   ]
  },
  {
   "cell_type": "code",
   "execution_count": 182,
   "metadata": {},
   "outputs": [
    {
     "data": {
      "text/plain": [
       "30"
      ]
     },
     "execution_count": 182,
     "metadata": {},
     "output_type": "execute_result"
    }
   ],
   "source": [
    "len(data_upsampled_fS.columns)"
   ]
  },
  {
   "cell_type": "code",
   "execution_count": 183,
   "metadata": {},
   "outputs": [
    {
     "data": {
      "text/plain": [
       "(144928,)"
      ]
     },
     "execution_count": 183,
     "metadata": {},
     "output_type": "execute_result"
    }
   ],
   "source": [
    "y_train_u.shape"
   ]
  },
  {
   "cell_type": "code",
   "execution_count": 184,
   "metadata": {},
   "outputs": [],
   "source": [
    "# x_Test_FS =[]\n",
    "# for i in X_test_r.columns:\n",
    "#     if i in (data_upsampled_fS.columns):\n",
    "#         x_Test_FS.append(i)\n",
    " \n",
    "x_Test_FS = []\n",
    "for i in data_upsampled_fS.columns:\n",
    "    if i in (X_test_r.columns):\n",
    "        x_Test_FS.append(i)\n",
    "\n"
   ]
  },
  {
   "cell_type": "code",
   "execution_count": 185,
   "metadata": {},
   "outputs": [
    {
     "data": {
      "text/plain": [
       "30"
      ]
     },
     "execution_count": 185,
     "metadata": {},
     "output_type": "execute_result"
    }
   ],
   "source": [
    "len(x_Test_FS)"
   ]
  },
  {
   "cell_type": "code",
   "execution_count": 186,
   "metadata": {},
   "outputs": [
    {
     "data": {
      "text/plain": [
       "30"
      ]
     },
     "execution_count": 186,
     "metadata": {},
     "output_type": "execute_result"
    }
   ],
   "source": [
    "len(data_upsampled_fS.columns)"
   ]
  },
  {
   "cell_type": "code",
   "execution_count": 187,
   "metadata": {},
   "outputs": [
    {
     "data": {
      "text/plain": [
       "144928"
      ]
     },
     "execution_count": 187,
     "metadata": {},
     "output_type": "execute_result"
    }
   ],
   "source": [
    "len(data_upsampled_fS)"
   ]
  },
  {
   "cell_type": "code",
   "execution_count": 188,
   "metadata": {},
   "outputs": [
    {
     "data": {
      "text/plain": [
       "30"
      ]
     },
     "execution_count": 188,
     "metadata": {},
     "output_type": "execute_result"
    }
   ],
   "source": [
    "len(x_Test_FS)"
   ]
  },
  {
   "cell_type": "code",
   "execution_count": 189,
   "metadata": {},
   "outputs": [
    {
     "data": {
      "text/plain": [
       "(19083, 30)"
      ]
     },
     "execution_count": 189,
     "metadata": {},
     "output_type": "execute_result"
    }
   ],
   "source": [
    "new_X_test = X_test_r[x_Test_FS]\n",
    "new_X_test.shape"
   ]
  },
  {
   "cell_type": "code",
   "execution_count": 190,
   "metadata": {},
   "outputs": [
    {
     "data": {
      "text/html": [
       "<div>\n",
       "<style scoped>\n",
       "    .dataframe tbody tr th:only-of-type {\n",
       "        vertical-align: middle;\n",
       "    }\n",
       "\n",
       "    .dataframe tbody tr th {\n",
       "        vertical-align: top;\n",
       "    }\n",
       "\n",
       "    .dataframe thead th {\n",
       "        text-align: right;\n",
       "    }\n",
       "</style>\n",
       "<table border=\"1\" class=\"dataframe\">\n",
       "  <thead>\n",
       "    <tr style=\"text-align: right;\">\n",
       "      <th></th>\n",
       "      <th>RFA_2F</th>\n",
       "      <th>RFA_2A_G</th>\n",
       "      <th>RFA_2A_E</th>\n",
       "      <th>RFA_2A_F</th>\n",
       "      <th>LASTDATE_YR</th>\n",
       "      <th>HVP2</th>\n",
       "      <th>HVP1</th>\n",
       "      <th>CARDGIFT</th>\n",
       "      <th>HVP3</th>\n",
       "      <th>HVP6</th>\n",
       "      <th>...</th>\n",
       "      <th>NGIFTALL</th>\n",
       "      <th>DOB_MM</th>\n",
       "      <th>DOMAIN_A_S</th>\n",
       "      <th>CARDPROM</th>\n",
       "      <th>NUMPROM</th>\n",
       "      <th>CLUSTER2</th>\n",
       "      <th>STATE_GA</th>\n",
       "      <th>LASTDATE_MM</th>\n",
       "      <th>RP3</th>\n",
       "      <th>ODATEW_MM</th>\n",
       "    </tr>\n",
       "  </thead>\n",
       "  <tbody>\n",
       "    <tr>\n",
       "      <th>0</th>\n",
       "      <td>-0.848148</td>\n",
       "      <td>0.0</td>\n",
       "      <td>1.0</td>\n",
       "      <td>0.0</td>\n",
       "      <td>-0.789611</td>\n",
       "      <td>-0.627068</td>\n",
       "      <td>-0.471415</td>\n",
       "      <td>0.205560</td>\n",
       "      <td>-0.654937</td>\n",
       "      <td>-0.355373</td>\n",
       "      <td>...</td>\n",
       "      <td>0.628067</td>\n",
       "      <td>0.369117</td>\n",
       "      <td>0.0</td>\n",
       "      <td>0.762008</td>\n",
       "      <td>0.783010</td>\n",
       "      <td>-0.779187</td>\n",
       "      <td>0.0</td>\n",
       "      <td>1.021876</td>\n",
       "      <td>0.986094</td>\n",
       "      <td>-0.024062</td>\n",
       "    </tr>\n",
       "    <tr>\n",
       "      <th>1</th>\n",
       "      <td>1.016381</td>\n",
       "      <td>0.0</td>\n",
       "      <td>1.0</td>\n",
       "      <td>0.0</td>\n",
       "      <td>1.114181</td>\n",
       "      <td>-0.595678</td>\n",
       "      <td>-0.471415</td>\n",
       "      <td>-1.118228</td>\n",
       "      <td>-0.764218</td>\n",
       "      <td>-0.355373</td>\n",
       "      <td>...</td>\n",
       "      <td>-0.421966</td>\n",
       "      <td>-0.291028</td>\n",
       "      <td>0.0</td>\n",
       "      <td>-0.750375</td>\n",
       "      <td>-0.738902</td>\n",
       "      <td>0.660879</td>\n",
       "      <td>0.0</td>\n",
       "      <td>-0.864236</td>\n",
       "      <td>-1.079913</td>\n",
       "      <td>-0.024062</td>\n",
       "    </tr>\n",
       "    <tr>\n",
       "      <th>2</th>\n",
       "      <td>0.084116</td>\n",
       "      <td>0.0</td>\n",
       "      <td>1.0</td>\n",
       "      <td>0.0</td>\n",
       "      <td>1.114181</td>\n",
       "      <td>-0.564288</td>\n",
       "      <td>-0.509039</td>\n",
       "      <td>1.088086</td>\n",
       "      <td>1.284802</td>\n",
       "      <td>-0.355373</td>\n",
       "      <td>...</td>\n",
       "      <td>0.161386</td>\n",
       "      <td>1.359333</td>\n",
       "      <td>0.0</td>\n",
       "      <td>0.412997</td>\n",
       "      <td>0.522111</td>\n",
       "      <td>-1.419216</td>\n",
       "      <td>0.0</td>\n",
       "      <td>-0.864236</td>\n",
       "      <td>1.016476</td>\n",
       "      <td>-0.024062</td>\n",
       "    </tr>\n",
       "    <tr>\n",
       "      <th>4</th>\n",
       "      <td>-0.848148</td>\n",
       "      <td>1.0</td>\n",
       "      <td>0.0</td>\n",
       "      <td>0.0</td>\n",
       "      <td>1.114181</td>\n",
       "      <td>-0.627068</td>\n",
       "      <td>-0.509039</td>\n",
       "      <td>-0.897597</td>\n",
       "      <td>-0.873499</td>\n",
       "      <td>-0.355373</td>\n",
       "      <td>...</td>\n",
       "      <td>-1.005317</td>\n",
       "      <td>-0.291028</td>\n",
       "      <td>0.0</td>\n",
       "      <td>-1.448397</td>\n",
       "      <td>-1.434633</td>\n",
       "      <td>0.660879</td>\n",
       "      <td>0.0</td>\n",
       "      <td>-1.100000</td>\n",
       "      <td>-1.626797</td>\n",
       "      <td>-0.024062</td>\n",
       "    </tr>\n",
       "    <tr>\n",
       "      <th>5</th>\n",
       "      <td>1.016381</td>\n",
       "      <td>0.0</td>\n",
       "      <td>0.0</td>\n",
       "      <td>0.0</td>\n",
       "      <td>-0.789611</td>\n",
       "      <td>-0.627068</td>\n",
       "      <td>-0.509039</td>\n",
       "      <td>0.205560</td>\n",
       "      <td>-0.928140</td>\n",
       "      <td>-0.355373</td>\n",
       "      <td>...</td>\n",
       "      <td>0.628067</td>\n",
       "      <td>2.349549</td>\n",
       "      <td>0.0</td>\n",
       "      <td>0.412997</td>\n",
       "      <td>-0.304070</td>\n",
       "      <td>1.354243</td>\n",
       "      <td>0.0</td>\n",
       "      <td>0.550348</td>\n",
       "      <td>-1.778709</td>\n",
       "      <td>-0.024062</td>\n",
       "    </tr>\n",
       "    <tr>\n",
       "      <th>...</th>\n",
       "      <td>...</td>\n",
       "      <td>...</td>\n",
       "      <td>...</td>\n",
       "      <td>...</td>\n",
       "      <td>...</td>\n",
       "      <td>...</td>\n",
       "      <td>...</td>\n",
       "      <td>...</td>\n",
       "      <td>...</td>\n",
       "      <td>...</td>\n",
       "      <td>...</td>\n",
       "      <td>...</td>\n",
       "      <td>...</td>\n",
       "      <td>...</td>\n",
       "      <td>...</td>\n",
       "      <td>...</td>\n",
       "      <td>...</td>\n",
       "      <td>...</td>\n",
       "      <td>...</td>\n",
       "      <td>...</td>\n",
       "      <td>...</td>\n",
       "    </tr>\n",
       "    <tr>\n",
       "      <th>13876</th>\n",
       "      <td>-0.848148</td>\n",
       "      <td>0.0</td>\n",
       "      <td>0.0</td>\n",
       "      <td>1.0</td>\n",
       "      <td>-0.789611</td>\n",
       "      <td>-0.093438</td>\n",
       "      <td>-0.170422</td>\n",
       "      <td>-0.897597</td>\n",
       "      <td>0.301273</td>\n",
       "      <td>-0.188754</td>\n",
       "      <td>...</td>\n",
       "      <td>-0.888647</td>\n",
       "      <td>-0.621100</td>\n",
       "      <td>1.0</td>\n",
       "      <td>-0.866712</td>\n",
       "      <td>-0.695419</td>\n",
       "      <td>-0.405836</td>\n",
       "      <td>0.0</td>\n",
       "      <td>0.078820</td>\n",
       "      <td>0.682269</td>\n",
       "      <td>-0.024062</td>\n",
       "    </tr>\n",
       "    <tr>\n",
       "      <th>69639</th>\n",
       "      <td>0.084116</td>\n",
       "      <td>0.0</td>\n",
       "      <td>1.0</td>\n",
       "      <td>0.0</td>\n",
       "      <td>-0.789611</td>\n",
       "      <td>2.103863</td>\n",
       "      <td>2.689008</td>\n",
       "      <td>1.088086</td>\n",
       "      <td>1.612646</td>\n",
       "      <td>2.310540</td>\n",
       "      <td>...</td>\n",
       "      <td>0.744737</td>\n",
       "      <td>-0.621100</td>\n",
       "      <td>0.0</td>\n",
       "      <td>0.762008</td>\n",
       "      <td>0.739527</td>\n",
       "      <td>-1.419216</td>\n",
       "      <td>0.0</td>\n",
       "      <td>1.021876</td>\n",
       "      <td>1.198771</td>\n",
       "      <td>-0.024062</td>\n",
       "    </tr>\n",
       "    <tr>\n",
       "      <th>15625</th>\n",
       "      <td>1.948645</td>\n",
       "      <td>0.0</td>\n",
       "      <td>1.0</td>\n",
       "      <td>0.0</td>\n",
       "      <td>1.114181</td>\n",
       "      <td>-0.627068</td>\n",
       "      <td>-0.509039</td>\n",
       "      <td>-0.235703</td>\n",
       "      <td>-0.846179</td>\n",
       "      <td>-0.355373</td>\n",
       "      <td>...</td>\n",
       "      <td>0.161386</td>\n",
       "      <td>1.689405</td>\n",
       "      <td>0.0</td>\n",
       "      <td>0.296660</td>\n",
       "      <td>0.130762</td>\n",
       "      <td>1.567586</td>\n",
       "      <td>0.0</td>\n",
       "      <td>-1.100000</td>\n",
       "      <td>-1.353355</td>\n",
       "      <td>-0.024062</td>\n",
       "    </tr>\n",
       "    <tr>\n",
       "      <th>55231</th>\n",
       "      <td>-0.848148</td>\n",
       "      <td>0.0</td>\n",
       "      <td>0.0</td>\n",
       "      <td>1.0</td>\n",
       "      <td>-0.789611</td>\n",
       "      <td>0.754093</td>\n",
       "      <td>-0.358543</td>\n",
       "      <td>-0.897597</td>\n",
       "      <td>1.476044</td>\n",
       "      <td>-0.355373</td>\n",
       "      <td>...</td>\n",
       "      <td>-1.005317</td>\n",
       "      <td>-0.621100</td>\n",
       "      <td>0.0</td>\n",
       "      <td>-1.564735</td>\n",
       "      <td>-1.478117</td>\n",
       "      <td>-1.419216</td>\n",
       "      <td>0.0</td>\n",
       "      <td>0.786112</td>\n",
       "      <td>0.591122</td>\n",
       "      <td>-0.024062</td>\n",
       "    </tr>\n",
       "    <tr>\n",
       "      <th>28676</th>\n",
       "      <td>1.948645</td>\n",
       "      <td>0.0</td>\n",
       "      <td>1.0</td>\n",
       "      <td>0.0</td>\n",
       "      <td>1.114181</td>\n",
       "      <td>-0.627068</td>\n",
       "      <td>-0.471415</td>\n",
       "      <td>2.853137</td>\n",
       "      <td>-0.818859</td>\n",
       "      <td>-0.299833</td>\n",
       "      <td>...</td>\n",
       "      <td>2.261450</td>\n",
       "      <td>2.349549</td>\n",
       "      <td>0.0</td>\n",
       "      <td>1.809043</td>\n",
       "      <td>2.261439</td>\n",
       "      <td>-0.085822</td>\n",
       "      <td>0.0</td>\n",
       "      <td>-1.335764</td>\n",
       "      <td>1.016476</td>\n",
       "      <td>-0.024062</td>\n",
       "    </tr>\n",
       "  </tbody>\n",
       "</table>\n",
       "<p>144928 rows × 30 columns</p>\n",
       "</div>"
      ],
      "text/plain": [
       "         RFA_2F  RFA_2A_G  RFA_2A_E  RFA_2A_F  LASTDATE_YR      HVP2  \\\n",
       "0     -0.848148       0.0       1.0       0.0    -0.789611 -0.627068   \n",
       "1      1.016381       0.0       1.0       0.0     1.114181 -0.595678   \n",
       "2      0.084116       0.0       1.0       0.0     1.114181 -0.564288   \n",
       "4     -0.848148       1.0       0.0       0.0     1.114181 -0.627068   \n",
       "5      1.016381       0.0       0.0       0.0    -0.789611 -0.627068   \n",
       "...         ...       ...       ...       ...          ...       ...   \n",
       "13876 -0.848148       0.0       0.0       1.0    -0.789611 -0.093438   \n",
       "69639  0.084116       0.0       1.0       0.0    -0.789611  2.103863   \n",
       "15625  1.948645       0.0       1.0       0.0     1.114181 -0.627068   \n",
       "55231 -0.848148       0.0       0.0       1.0    -0.789611  0.754093   \n",
       "28676  1.948645       0.0       1.0       0.0     1.114181 -0.627068   \n",
       "\n",
       "           HVP1  CARDGIFT      HVP3      HVP6  ...  NGIFTALL    DOB_MM  \\\n",
       "0     -0.471415  0.205560 -0.654937 -0.355373  ...  0.628067  0.369117   \n",
       "1     -0.471415 -1.118228 -0.764218 -0.355373  ... -0.421966 -0.291028   \n",
       "2     -0.509039  1.088086  1.284802 -0.355373  ...  0.161386  1.359333   \n",
       "4     -0.509039 -0.897597 -0.873499 -0.355373  ... -1.005317 -0.291028   \n",
       "5     -0.509039  0.205560 -0.928140 -0.355373  ...  0.628067  2.349549   \n",
       "...         ...       ...       ...       ...  ...       ...       ...   \n",
       "13876 -0.170422 -0.897597  0.301273 -0.188754  ... -0.888647 -0.621100   \n",
       "69639  2.689008  1.088086  1.612646  2.310540  ...  0.744737 -0.621100   \n",
       "15625 -0.509039 -0.235703 -0.846179 -0.355373  ...  0.161386  1.689405   \n",
       "55231 -0.358543 -0.897597  1.476044 -0.355373  ... -1.005317 -0.621100   \n",
       "28676 -0.471415  2.853137 -0.818859 -0.299833  ...  2.261450  2.349549   \n",
       "\n",
       "       DOMAIN_A_S  CARDPROM   NUMPROM  CLUSTER2  STATE_GA  LASTDATE_MM  \\\n",
       "0             0.0  0.762008  0.783010 -0.779187       0.0     1.021876   \n",
       "1             0.0 -0.750375 -0.738902  0.660879       0.0    -0.864236   \n",
       "2             0.0  0.412997  0.522111 -1.419216       0.0    -0.864236   \n",
       "4             0.0 -1.448397 -1.434633  0.660879       0.0    -1.100000   \n",
       "5             0.0  0.412997 -0.304070  1.354243       0.0     0.550348   \n",
       "...           ...       ...       ...       ...       ...          ...   \n",
       "13876         1.0 -0.866712 -0.695419 -0.405836       0.0     0.078820   \n",
       "69639         0.0  0.762008  0.739527 -1.419216       0.0     1.021876   \n",
       "15625         0.0  0.296660  0.130762  1.567586       0.0    -1.100000   \n",
       "55231         0.0 -1.564735 -1.478117 -1.419216       0.0     0.786112   \n",
       "28676         0.0  1.809043  2.261439 -0.085822       0.0    -1.335764   \n",
       "\n",
       "            RP3  ODATEW_MM  \n",
       "0      0.986094  -0.024062  \n",
       "1     -1.079913  -0.024062  \n",
       "2      1.016476  -0.024062  \n",
       "4     -1.626797  -0.024062  \n",
       "5     -1.778709  -0.024062  \n",
       "...         ...        ...  \n",
       "13876  0.682269  -0.024062  \n",
       "69639  1.198771  -0.024062  \n",
       "15625 -1.353355  -0.024062  \n",
       "55231  0.591122  -0.024062  \n",
       "28676  1.016476  -0.024062  \n",
       "\n",
       "[144928 rows x 30 columns]"
      ]
     },
     "execution_count": 190,
     "metadata": {},
     "output_type": "execute_result"
    }
   ],
   "source": [
    "data_upsampled_fS"
   ]
  },
  {
   "cell_type": "code",
   "execution_count": 191,
   "metadata": {},
   "outputs": [
    {
     "data": {
      "text/html": [
       "<div>\n",
       "<style scoped>\n",
       "    .dataframe tbody tr th:only-of-type {\n",
       "        vertical-align: middle;\n",
       "    }\n",
       "\n",
       "    .dataframe tbody tr th {\n",
       "        vertical-align: top;\n",
       "    }\n",
       "\n",
       "    .dataframe thead th {\n",
       "        text-align: right;\n",
       "    }\n",
       "</style>\n",
       "<table border=\"1\" class=\"dataframe\">\n",
       "  <thead>\n",
       "    <tr style=\"text-align: right;\">\n",
       "      <th></th>\n",
       "      <th>RFA_2F</th>\n",
       "      <th>RFA_2A_G</th>\n",
       "      <th>RFA_2A_E</th>\n",
       "      <th>RFA_2A_F</th>\n",
       "      <th>LASTDATE_YR</th>\n",
       "      <th>HVP2</th>\n",
       "      <th>HVP1</th>\n",
       "      <th>CARDGIFT</th>\n",
       "      <th>HVP3</th>\n",
       "      <th>HVP6</th>\n",
       "      <th>...</th>\n",
       "      <th>NGIFTALL</th>\n",
       "      <th>DOB_MM</th>\n",
       "      <th>DOMAIN_A_S</th>\n",
       "      <th>CARDPROM</th>\n",
       "      <th>NUMPROM</th>\n",
       "      <th>CLUSTER2</th>\n",
       "      <th>STATE_GA</th>\n",
       "      <th>LASTDATE_MM</th>\n",
       "      <th>RP3</th>\n",
       "      <th>ODATEW_MM</th>\n",
       "    </tr>\n",
       "  </thead>\n",
       "  <tbody>\n",
       "    <tr>\n",
       "      <th>0</th>\n",
       "      <td>1.016381</td>\n",
       "      <td>0.0</td>\n",
       "      <td>1.0</td>\n",
       "      <td>0.0</td>\n",
       "      <td>-0.789611</td>\n",
       "      <td>-0.658458</td>\n",
       "      <td>-0.509039</td>\n",
       "      <td>-0.456334</td>\n",
       "      <td>-0.928140</td>\n",
       "      <td>-0.355373</td>\n",
       "      <td>...</td>\n",
       "      <td>-0.305296</td>\n",
       "      <td>-0.621100</td>\n",
       "      <td>0.0</td>\n",
       "      <td>-0.285026</td>\n",
       "      <td>-0.478003</td>\n",
       "      <td>-0.779187</td>\n",
       "      <td>0.0</td>\n",
       "      <td>0.550348</td>\n",
       "      <td>0.986094</td>\n",
       "      <td>-0.024062</td>\n",
       "    </tr>\n",
       "    <tr>\n",
       "      <th>1</th>\n",
       "      <td>-0.848148</td>\n",
       "      <td>0.0</td>\n",
       "      <td>0.0</td>\n",
       "      <td>1.0</td>\n",
       "      <td>-0.789611</td>\n",
       "      <td>-0.438728</td>\n",
       "      <td>-0.433791</td>\n",
       "      <td>0.205560</td>\n",
       "      <td>1.120881</td>\n",
       "      <td>-0.355373</td>\n",
       "      <td>...</td>\n",
       "      <td>-0.071955</td>\n",
       "      <td>-0.291028</td>\n",
       "      <td>0.0</td>\n",
       "      <td>0.645671</td>\n",
       "      <td>0.391661</td>\n",
       "      <td>-0.192493</td>\n",
       "      <td>0.0</td>\n",
       "      <td>0.078820</td>\n",
       "      <td>0.621505</td>\n",
       "      <td>-0.024062</td>\n",
       "    </tr>\n",
       "    <tr>\n",
       "      <th>2</th>\n",
       "      <td>1.016381</td>\n",
       "      <td>1.0</td>\n",
       "      <td>0.0</td>\n",
       "      <td>0.0</td>\n",
       "      <td>1.114181</td>\n",
       "      <td>-0.658458</td>\n",
       "      <td>-0.509039</td>\n",
       "      <td>1.970611</td>\n",
       "      <td>-0.818859</td>\n",
       "      <td>-0.355373</td>\n",
       "      <td>...</td>\n",
       "      <td>1.678099</td>\n",
       "      <td>1.689405</td>\n",
       "      <td>1.0</td>\n",
       "      <td>1.692706</td>\n",
       "      <td>1.565707</td>\n",
       "      <td>-0.619179</td>\n",
       "      <td>0.0</td>\n",
       "      <td>-1.100000</td>\n",
       "      <td>1.107624</td>\n",
       "      <td>-0.024062</td>\n",
       "    </tr>\n",
       "    <tr>\n",
       "      <th>3</th>\n",
       "      <td>0.084116</td>\n",
       "      <td>0.0</td>\n",
       "      <td>0.0</td>\n",
       "      <td>1.0</td>\n",
       "      <td>1.114181</td>\n",
       "      <td>-0.627068</td>\n",
       "      <td>-0.509039</td>\n",
       "      <td>-0.456334</td>\n",
       "      <td>-0.846179</td>\n",
       "      <td>-0.355373</td>\n",
       "      <td>...</td>\n",
       "      <td>-0.305296</td>\n",
       "      <td>3.009693</td>\n",
       "      <td>0.0</td>\n",
       "      <td>-0.517700</td>\n",
       "      <td>-0.434520</td>\n",
       "      <td>-0.299165</td>\n",
       "      <td>0.0</td>\n",
       "      <td>-0.864236</td>\n",
       "      <td>-1.201442</td>\n",
       "      <td>-0.024062</td>\n",
       "    </tr>\n",
       "    <tr>\n",
       "      <th>4</th>\n",
       "      <td>-0.848148</td>\n",
       "      <td>0.0</td>\n",
       "      <td>1.0</td>\n",
       "      <td>0.0</td>\n",
       "      <td>1.114181</td>\n",
       "      <td>-0.627068</td>\n",
       "      <td>-0.471415</td>\n",
       "      <td>0.646823</td>\n",
       "      <td>-0.463695</td>\n",
       "      <td>-0.355373</td>\n",
       "      <td>...</td>\n",
       "      <td>0.744737</td>\n",
       "      <td>0.039044</td>\n",
       "      <td>0.0</td>\n",
       "      <td>0.762008</td>\n",
       "      <td>0.913459</td>\n",
       "      <td>-0.245829</td>\n",
       "      <td>0.0</td>\n",
       "      <td>-1.335764</td>\n",
       "      <td>1.077241</td>\n",
       "      <td>-0.024062</td>\n",
       "    </tr>\n",
       "    <tr>\n",
       "      <th>...</th>\n",
       "      <td>...</td>\n",
       "      <td>...</td>\n",
       "      <td>...</td>\n",
       "      <td>...</td>\n",
       "      <td>...</td>\n",
       "      <td>...</td>\n",
       "      <td>...</td>\n",
       "      <td>...</td>\n",
       "      <td>...</td>\n",
       "      <td>...</td>\n",
       "      <td>...</td>\n",
       "      <td>...</td>\n",
       "      <td>...</td>\n",
       "      <td>...</td>\n",
       "      <td>...</td>\n",
       "      <td>...</td>\n",
       "      <td>...</td>\n",
       "      <td>...</td>\n",
       "      <td>...</td>\n",
       "      <td>...</td>\n",
       "      <td>...</td>\n",
       "    </tr>\n",
       "    <tr>\n",
       "      <th>19078</th>\n",
       "      <td>1.016381</td>\n",
       "      <td>0.0</td>\n",
       "      <td>1.0</td>\n",
       "      <td>0.0</td>\n",
       "      <td>1.114181</td>\n",
       "      <td>-0.595678</td>\n",
       "      <td>-0.471415</td>\n",
       "      <td>-0.676965</td>\n",
       "      <td>-0.381734</td>\n",
       "      <td>-0.355373</td>\n",
       "      <td>...</td>\n",
       "      <td>-0.771977</td>\n",
       "      <td>-0.621100</td>\n",
       "      <td>0.0</td>\n",
       "      <td>-1.099386</td>\n",
       "      <td>-1.130251</td>\n",
       "      <td>0.500871</td>\n",
       "      <td>0.0</td>\n",
       "      <td>-1.335764</td>\n",
       "      <td>-0.593793</td>\n",
       "      <td>-0.024062</td>\n",
       "    </tr>\n",
       "    <tr>\n",
       "      <th>19079</th>\n",
       "      <td>-0.848148</td>\n",
       "      <td>0.0</td>\n",
       "      <td>0.0</td>\n",
       "      <td>1.0</td>\n",
       "      <td>-0.789611</td>\n",
       "      <td>-0.658458</td>\n",
       "      <td>-0.509039</td>\n",
       "      <td>-0.456334</td>\n",
       "      <td>-0.928140</td>\n",
       "      <td>-0.355373</td>\n",
       "      <td>...</td>\n",
       "      <td>-0.538636</td>\n",
       "      <td>2.019477</td>\n",
       "      <td>0.0</td>\n",
       "      <td>-0.168689</td>\n",
       "      <td>0.261211</td>\n",
       "      <td>1.514251</td>\n",
       "      <td>0.0</td>\n",
       "      <td>1.021876</td>\n",
       "      <td>-1.748327</td>\n",
       "      <td>-0.024062</td>\n",
       "    </tr>\n",
       "    <tr>\n",
       "      <th>19080</th>\n",
       "      <td>-0.848148</td>\n",
       "      <td>0.0</td>\n",
       "      <td>0.0</td>\n",
       "      <td>1.0</td>\n",
       "      <td>1.114181</td>\n",
       "      <td>-0.627068</td>\n",
       "      <td>-0.509039</td>\n",
       "      <td>-0.015071</td>\n",
       "      <td>-0.818859</td>\n",
       "      <td>-0.355373</td>\n",
       "      <td>...</td>\n",
       "      <td>0.044715</td>\n",
       "      <td>-0.621100</td>\n",
       "      <td>0.0</td>\n",
       "      <td>1.343694</td>\n",
       "      <td>0.869976</td>\n",
       "      <td>0.874222</td>\n",
       "      <td>0.0</td>\n",
       "      <td>-1.335764</td>\n",
       "      <td>-0.806471</td>\n",
       "      <td>-0.024062</td>\n",
       "    </tr>\n",
       "    <tr>\n",
       "      <th>19081</th>\n",
       "      <td>1.016381</td>\n",
       "      <td>0.0</td>\n",
       "      <td>0.0</td>\n",
       "      <td>0.0</td>\n",
       "      <td>-0.789611</td>\n",
       "      <td>-0.470118</td>\n",
       "      <td>-0.471415</td>\n",
       "      <td>1.749980</td>\n",
       "      <td>-0.108532</td>\n",
       "      <td>-0.355373</td>\n",
       "      <td>...</td>\n",
       "      <td>2.028110</td>\n",
       "      <td>0.699189</td>\n",
       "      <td>0.0</td>\n",
       "      <td>0.063986</td>\n",
       "      <td>0.174245</td>\n",
       "      <td>-0.885858</td>\n",
       "      <td>0.0</td>\n",
       "      <td>0.786112</td>\n",
       "      <td>-0.198822</td>\n",
       "      <td>-0.024062</td>\n",
       "    </tr>\n",
       "    <tr>\n",
       "      <th>19082</th>\n",
       "      <td>1.016381</td>\n",
       "      <td>0.0</td>\n",
       "      <td>1.0</td>\n",
       "      <td>0.0</td>\n",
       "      <td>-0.789611</td>\n",
       "      <td>1.381893</td>\n",
       "      <td>0.770180</td>\n",
       "      <td>1.308717</td>\n",
       "      <td>1.585325</td>\n",
       "      <td>0.200025</td>\n",
       "      <td>...</td>\n",
       "      <td>0.978077</td>\n",
       "      <td>-0.621100</td>\n",
       "      <td>1.0</td>\n",
       "      <td>1.227357</td>\n",
       "      <td>1.043909</td>\n",
       "      <td>-0.672515</td>\n",
       "      <td>0.0</td>\n",
       "      <td>1.021876</td>\n",
       "      <td>0.743034</td>\n",
       "      <td>-0.024062</td>\n",
       "    </tr>\n",
       "  </tbody>\n",
       "</table>\n",
       "<p>19083 rows × 30 columns</p>\n",
       "</div>"
      ],
      "text/plain": [
       "         RFA_2F  RFA_2A_G  RFA_2A_E  RFA_2A_F  LASTDATE_YR      HVP2  \\\n",
       "0      1.016381       0.0       1.0       0.0    -0.789611 -0.658458   \n",
       "1     -0.848148       0.0       0.0       1.0    -0.789611 -0.438728   \n",
       "2      1.016381       1.0       0.0       0.0     1.114181 -0.658458   \n",
       "3      0.084116       0.0       0.0       1.0     1.114181 -0.627068   \n",
       "4     -0.848148       0.0       1.0       0.0     1.114181 -0.627068   \n",
       "...         ...       ...       ...       ...          ...       ...   \n",
       "19078  1.016381       0.0       1.0       0.0     1.114181 -0.595678   \n",
       "19079 -0.848148       0.0       0.0       1.0    -0.789611 -0.658458   \n",
       "19080 -0.848148       0.0       0.0       1.0     1.114181 -0.627068   \n",
       "19081  1.016381       0.0       0.0       0.0    -0.789611 -0.470118   \n",
       "19082  1.016381       0.0       1.0       0.0    -0.789611  1.381893   \n",
       "\n",
       "           HVP1  CARDGIFT      HVP3      HVP6  ...  NGIFTALL    DOB_MM  \\\n",
       "0     -0.509039 -0.456334 -0.928140 -0.355373  ... -0.305296 -0.621100   \n",
       "1     -0.433791  0.205560  1.120881 -0.355373  ... -0.071955 -0.291028   \n",
       "2     -0.509039  1.970611 -0.818859 -0.355373  ...  1.678099  1.689405   \n",
       "3     -0.509039 -0.456334 -0.846179 -0.355373  ... -0.305296  3.009693   \n",
       "4     -0.471415  0.646823 -0.463695 -0.355373  ...  0.744737  0.039044   \n",
       "...         ...       ...       ...       ...  ...       ...       ...   \n",
       "19078 -0.471415 -0.676965 -0.381734 -0.355373  ... -0.771977 -0.621100   \n",
       "19079 -0.509039 -0.456334 -0.928140 -0.355373  ... -0.538636  2.019477   \n",
       "19080 -0.509039 -0.015071 -0.818859 -0.355373  ...  0.044715 -0.621100   \n",
       "19081 -0.471415  1.749980 -0.108532 -0.355373  ...  2.028110  0.699189   \n",
       "19082  0.770180  1.308717  1.585325  0.200025  ...  0.978077 -0.621100   \n",
       "\n",
       "       DOMAIN_A_S  CARDPROM   NUMPROM  CLUSTER2  STATE_GA  LASTDATE_MM  \\\n",
       "0             0.0 -0.285026 -0.478003 -0.779187       0.0     0.550348   \n",
       "1             0.0  0.645671  0.391661 -0.192493       0.0     0.078820   \n",
       "2             1.0  1.692706  1.565707 -0.619179       0.0    -1.100000   \n",
       "3             0.0 -0.517700 -0.434520 -0.299165       0.0    -0.864236   \n",
       "4             0.0  0.762008  0.913459 -0.245829       0.0    -1.335764   \n",
       "...           ...       ...       ...       ...       ...          ...   \n",
       "19078         0.0 -1.099386 -1.130251  0.500871       0.0    -1.335764   \n",
       "19079         0.0 -0.168689  0.261211  1.514251       0.0     1.021876   \n",
       "19080         0.0  1.343694  0.869976  0.874222       0.0    -1.335764   \n",
       "19081         0.0  0.063986  0.174245 -0.885858       0.0     0.786112   \n",
       "19082         1.0  1.227357  1.043909 -0.672515       0.0     1.021876   \n",
       "\n",
       "            RP3  ODATEW_MM  \n",
       "0      0.986094  -0.024062  \n",
       "1      0.621505  -0.024062  \n",
       "2      1.107624  -0.024062  \n",
       "3     -1.201442  -0.024062  \n",
       "4      1.077241  -0.024062  \n",
       "...         ...        ...  \n",
       "19078 -0.593793  -0.024062  \n",
       "19079 -1.748327  -0.024062  \n",
       "19080 -0.806471  -0.024062  \n",
       "19081 -0.198822  -0.024062  \n",
       "19082  0.743034  -0.024062  \n",
       "\n",
       "[19083 rows x 30 columns]"
      ]
     },
     "execution_count": 191,
     "metadata": {},
     "output_type": "execute_result"
    }
   ],
   "source": [
    "new_X_test"
   ]
  },
  {
   "cell_type": "code",
   "execution_count": 192,
   "metadata": {},
   "outputs": [
    {
     "data": {
      "text/plain": [
       "(19083,)"
      ]
     },
     "execution_count": 192,
     "metadata": {},
     "output_type": "execute_result"
    }
   ],
   "source": [
    "y_test.shape"
   ]
  },
  {
   "cell_type": "markdown",
   "metadata": {},
   "source": [
    "# Re-run the Random Forest algorithm to determine if the Feature Selection has improved the results."
   ]
  },
  {
   "cell_type": "code",
   "execution_count": 193,
   "metadata": {},
   "outputs": [
    {
     "name": "stdout",
     "output_type": "stream",
     "text": [
      "train score:  0.7142029145506734\n",
      "test score:  0.6967981973484253\n"
     ]
    },
    {
     "data": {
      "text/plain": [
       "TARGET_B\n",
       "0    18105\n",
       "1      978\n",
       "Name: count, dtype: int64"
      ]
     },
     "metadata": {},
     "output_type": "display_data"
    },
    {
     "data": {
      "text/plain": [
       "array([[12825,  5280],\n",
       "       [  506,   472]], dtype=int64)"
      ]
     },
     "metadata": {},
     "output_type": "display_data"
    }
   ],
   "source": [
    "from sklearn.ensemble import RandomForestClassifier\n",
    "from sklearn.metrics import confusion_matrix\n",
    "\n",
    "clf = RandomForestClassifier(max_depth=9, # max number of questions to ask\n",
    "                             min_samples_split=20, # amount of rows still considered at every question\n",
    "                             min_samples_leaf =20, # ultimate answer based on at least this many rows\n",
    "                             max_samples=0.8, # fraction of X-train to use in each tree\n",
    "                             random_state=42)\n",
    "clf.fit(data_upsampled_fS, y_train_u)\n",
    "print(\"train score: \",clf.score(data_upsampled_fS, y_train_u))\n",
    "print(\"test score: \",clf.score(new_X_test, y_test))\n",
    "\n",
    "y_pred = clf.predict(new_X_test)\n",
    "display(y_test.value_counts())\n",
    "display(confusion_matrix(y_test, y_pred))"
   ]
  },
  {
   "cell_type": "code",
   "execution_count": null,
   "metadata": {},
   "outputs": [],
   "source": [
    "# from the "
   ]
  },
  {
   "cell_type": "code",
   "execution_count": null,
   "metadata": {},
   "outputs": [],
   "source": [
    "# i can see good improvement after doing feautre selection, our main objective is to reduce False positive \n",
    "#after feuture selection FP = 5280 before it was 6870\n",
    "# we can further reduce FP by doing parameter changes into random forest algorithm and feature slection also\n",
    "# FP indicated number of people predicted false as a donor but actually they were not donor and we are sending 5280 wrong gift \n",
    "#so finally it affect th "
   ]
  }
 ],
 "metadata": {
  "kernelspec": {
   "display_name": "Python 3 (ipykernel)",
   "language": "python",
   "name": "python3"
  },
  "language_info": {
   "codemirror_mode": {
    "name": "ipython",
    "version": 3
   },
   "file_extension": ".py",
   "mimetype": "text/x-python",
   "name": "python",
   "nbconvert_exporter": "python",
   "pygments_lexer": "ipython3",
   "version": "3.11.5"
  }
 },
 "nbformat": 4,
 "nbformat_minor": 4
}
