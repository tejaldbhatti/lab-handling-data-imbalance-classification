{
 "cells": [
  {
   "cell_type": "code",
   "execution_count": 1,
   "metadata": {},
   "outputs": [],
   "source": [
    "import pandas as pd\n",
    "import numpy as np"
   ]
  },
  {
   "cell_type": "code",
   "execution_count": 2,
   "metadata": {},
   "outputs": [
    {
     "data": {
      "text/plain": [
       "(95412, 315)"
      ]
     },
     "execution_count": 2,
     "metadata": {},
     "output_type": "execute_result"
    }
   ],
   "source": [
    "num = pd.read_csv(\"numerical(1).csv\")\n",
    "num.shape"
   ]
  },
  {
   "cell_type": "code",
   "execution_count": 3,
   "metadata": {},
   "outputs": [],
   "source": [
    "cat = pd.read_csv(\"categorical.csv\")"
   ]
  },
  {
   "cell_type": "code",
   "execution_count": 4,
   "metadata": {},
   "outputs": [
    {
     "data": {
      "text/plain": [
       "DOMAIN_B\n",
       "3    48356\n",
       "4    28498\n",
       "2    16754\n",
       "1     1804\n",
       "Name: count, dtype: int64"
      ]
     },
     "execution_count": 4,
     "metadata": {},
     "output_type": "execute_result"
    }
   ],
   "source": [
    "# transforming Domain_B \n",
    "mapping = {1: 4, 2: 3, 3: 2, 4: 1}\n",
    "cat[\"DOMAIN_B\"] = cat[\"DOMAIN_B\"].replace(mapping)\n",
    "cat[\"DOMAIN_B\"].value_counts() "
   ]
  },
  {
   "cell_type": "code",
   "execution_count": 5,
   "metadata": {},
   "outputs": [],
   "source": [
    "#Converting DATASRCE into object\n",
    "cat[\"DATASRCE\"] = cat[\"DATASRCE\"].astype('object')"
   ]
  },
  {
   "cell_type": "code",
   "execution_count": 6,
   "metadata": {},
   "outputs": [],
   "source": [
    "# Dropping RFA_2R because it has only one unique value\n",
    "cat.drop(\"RFA_2R\",axis =1,inplace=True)"
   ]
  },
  {
   "cell_type": "code",
   "execution_count": 7,
   "metadata": {},
   "outputs": [],
   "source": [
    "target = pd.read_csv(\"target.csv\")\n"
   ]
  },
  {
   "cell_type": "markdown",
   "metadata": {},
   "source": [
    "# Look critically at the dtypes of numerical and categorical columns and make changes where appropriate"
   ]
  },
  {
   "cell_type": "code",
   "execution_count": null,
   "metadata": {},
   "outputs": [],
   "source": [
    "# numer =[]\n",
    "# for i in num.columns:\n",
    "#     unique_values = num[i].nunique()\n",
    "#     if unique_values <=10: \n",
    "#         numer.append(i)\n",
    "# # this above code check the number of unique values of each \n",
    "# #numerical columns and when the unique values are less than or equal to 10 , we will convert it into category        "
   ]
  },
  {
   "cell_type": "code",
   "execution_count": null,
   "metadata": {},
   "outputs": [],
   "source": [
    "# for i in numer:\n",
    "#     num[i] = num[i].astype('object')"
   ]
  },
  {
   "cell_type": "code",
   "execution_count": null,
   "metadata": {},
   "outputs": [],
   "source": [
    "# num.columns[num.dtypes==object]"
   ]
  },
  {
   "cell_type": "code",
   "execution_count": null,
   "metadata": {},
   "outputs": [],
   "source": [
    "# for column in numerical.columns:\n",
    "#     unique_values = numerical[column].unique()\n",
    "#     print(f\"Column: {column}, Unique Values: {unique_values}\")"
   ]
  },
  {
   "cell_type": "code",
   "execution_count": null,
   "metadata": {},
   "outputs": [],
   "source": [
    "# All features in numerical are integer or float.\n",
    "# Even they are categorical, but have dtype integer or float, I will not convert dtype, as this will create too much additional features for the future model."
   ]
  },
  {
   "cell_type": "markdown",
   "metadata": {},
   "source": [
    "# concating num and cat = X"
   ]
  },
  {
   "cell_type": "code",
   "execution_count": 8,
   "metadata": {},
   "outputs": [],
   "source": [
    "X = pd.concat([num,cat],axis =1)"
   ]
  },
  {
   "cell_type": "code",
   "execution_count": 9,
   "metadata": {},
   "outputs": [],
   "source": [
    "y =target[\"TARGET_B\"]"
   ]
  },
  {
   "cell_type": "code",
   "execution_count": 10,
   "metadata": {},
   "outputs": [],
   "source": [
    "# train test split\n",
    "from sklearn.model_selection import train_test_split\n",
    "X_train, X_test, y_train, y_test = train_test_split(X, y, test_size=0.20, random_state = 1)"
   ]
  },
  {
   "cell_type": "code",
   "execution_count": 11,
   "metadata": {},
   "outputs": [],
   "source": [
    "#Split further into train_num and train_cat. Also test_num and test_cat\n",
    "train_cat = X_train.select_dtypes(include = \"object\")\n",
    "train_num = X_train.select_dtypes(exclude = \"object\")\n",
    "test_cat = X_test.select_dtypes(include = \"object\")\n",
    "test_num = X_test.select_dtypes(exclude = \"object\")"
   ]
  },
  {
   "cell_type": "code",
   "execution_count": 12,
   "metadata": {},
   "outputs": [],
   "source": [
    "# Scale the features using standardscaler\n",
    "\n",
    "from sklearn.preprocessing import StandardScaler\n",
    "\n",
    "transformer = StandardScaler().fit(train_num)\n",
    "X_train_scale = transformer.transform(train_num)\n",
    "X_test_scale = transformer.transform(test_num)"
   ]
  },
  {
   "cell_type": "code",
   "execution_count": 13,
   "metadata": {},
   "outputs": [],
   "source": [
    "# Encode the categorical features using One-Hot Encoding\n",
    "\n",
    "# One hot encoding\n",
    "from sklearn.preprocessing import OneHotEncoder\n",
    "\n",
    "encoder = OneHotEncoder(handle_unknown='error', drop='first')\n",
    "encoder.fit(train_cat)\n",
    "X_train_one_hot = encoder.transform(train_cat).toarray()\n",
    "X_test_one_hot= encoder.transform(test_cat).toarray()\n",
    "\n"
   ]
  },
  {
   "cell_type": "code",
   "execution_count": 14,
   "metadata": {},
   "outputs": [],
   "source": [
    "#re-concatenate train_num and train_cat as X_train as well as test_num and test_cat as X_test\n",
    "X_train_r = np.concatenate((X_train_scale,X_train_one_hot),axis=1)\n",
    "X_test_r = np.concatenate((X_test_scale,X_test_one_hot),axis=1)"
   ]
  },
  {
   "cell_type": "code",
   "execution_count": 15,
   "metadata": {},
   "outputs": [],
   "source": [
    "# Fit a logistic regression (classification) model on the training data.\n",
    "from sklearn.linear_model import LogisticRegression\n",
    "from sklearn import metrics"
   ]
  },
  {
   "cell_type": "code",
   "execution_count": null,
   "metadata": {},
   "outputs": [],
   "source": []
  },
  {
   "cell_type": "code",
   "execution_count": 16,
   "metadata": {},
   "outputs": [],
   "source": [
    "model = LogisticRegression()\n",
    "model.fit(X_train_r, y_train)\n",
    "y_pred = model.predict(X_test_r)"
   ]
  },
  {
   "cell_type": "code",
   "execution_count": 17,
   "metadata": {},
   "outputs": [
    {
     "name": "stdout",
     "output_type": "stream",
     "text": [
      "Accuracy:  0.9487501965099827\n"
     ]
    }
   ],
   "source": [
    "accuracy = metrics.accuracy_score(y_test, y_pred)\n",
    "print(\"Accuracy: \",accuracy)\n"
   ]
  },
  {
   "cell_type": "code",
   "execution_count": 18,
   "metadata": {},
   "outputs": [
    {
     "data": {
      "text/plain": [
       "array([[18105,     0],\n",
       "       [  978,     0]], dtype=int64)"
      ]
     },
     "execution_count": 18,
     "metadata": {},
     "output_type": "execute_result"
    }
   ],
   "source": [
    "from sklearn.metrics import confusion_matrix\n",
    "confusion_matrix(y_test, y_pred)"
   ]
  },
  {
   "cell_type": "code",
   "execution_count": 19,
   "metadata": {},
   "outputs": [
    {
     "name": "stdout",
     "output_type": "stream",
     "text": [
      "Test Accuracy Score 0.9487501965099827\n"
     ]
    }
   ],
   "source": [
    "score = model.score(X_test_r, y_test)\n",
    "print(\"Test Accuracy Score\", score)\n"
   ]
  },
  {
   "cell_type": "markdown",
   "metadata": {},
   "source": [
    "# Managing imbalance in the dataset"
   ]
  },
  {
   "cell_type": "code",
   "execution_count": 20,
   "metadata": {},
   "outputs": [
    {
     "data": {
      "text/plain": [
       "TARGET_B\n",
       "0    90569\n",
       "1     4843\n",
       "Name: count, dtype: int64"
      ]
     },
     "execution_count": 20,
     "metadata": {},
     "output_type": "execute_result"
    }
   ],
   "source": [
    "# Check for the imbalance\n",
    "target['TARGET_B'].value_counts()"
   ]
  },
  {
   "cell_type": "code",
   "execution_count": 21,
   "metadata": {
    "scrolled": true
   },
   "outputs": [
    {
     "data": {
      "text/html": [
       "<div>\n",
       "<style scoped>\n",
       "    .dataframe tbody tr th:only-of-type {\n",
       "        vertical-align: middle;\n",
       "    }\n",
       "\n",
       "    .dataframe tbody tr th {\n",
       "        vertical-align: top;\n",
       "    }\n",
       "\n",
       "    .dataframe thead th {\n",
       "        text-align: right;\n",
       "    }\n",
       "</style>\n",
       "<table border=\"1\" class=\"dataframe\">\n",
       "  <thead>\n",
       "    <tr style=\"text-align: right;\">\n",
       "      <th></th>\n",
       "      <th>0</th>\n",
       "      <th>1</th>\n",
       "      <th>2</th>\n",
       "      <th>3</th>\n",
       "      <th>4</th>\n",
       "      <th>5</th>\n",
       "      <th>6</th>\n",
       "      <th>7</th>\n",
       "      <th>8</th>\n",
       "      <th>9</th>\n",
       "      <th>...</th>\n",
       "      <th>345</th>\n",
       "      <th>346</th>\n",
       "      <th>347</th>\n",
       "      <th>348</th>\n",
       "      <th>349</th>\n",
       "      <th>350</th>\n",
       "      <th>351</th>\n",
       "      <th>352</th>\n",
       "      <th>353</th>\n",
       "      <th>354</th>\n",
       "    </tr>\n",
       "  </thead>\n",
       "  <tbody>\n",
       "    <tr>\n",
       "      <th>0</th>\n",
       "      <td>-0.054979</td>\n",
       "      <td>-1.360613</td>\n",
       "      <td>0.508956</td>\n",
       "      <td>0.349417</td>\n",
       "      <td>-0.250339</td>\n",
       "      <td>0.188977</td>\n",
       "      <td>-1.087130</td>\n",
       "      <td>1.281545</td>\n",
       "      <td>-1.450164</td>\n",
       "      <td>-0.875158</td>\n",
       "      <td>...</td>\n",
       "      <td>1.0</td>\n",
       "      <td>0.0</td>\n",
       "      <td>0.0</td>\n",
       "      <td>1.0</td>\n",
       "      <td>0.0</td>\n",
       "      <td>0.0</td>\n",
       "      <td>0.0</td>\n",
       "      <td>0.0</td>\n",
       "      <td>1.0</td>\n",
       "      <td>0.0</td>\n",
       "    </tr>\n",
       "    <tr>\n",
       "      <th>1</th>\n",
       "      <td>-0.055998</td>\n",
       "      <td>-0.003631</td>\n",
       "      <td>0.508956</td>\n",
       "      <td>0.718790</td>\n",
       "      <td>-0.357662</td>\n",
       "      <td>-0.208697</td>\n",
       "      <td>-0.651540</td>\n",
       "      <td>-0.045104</td>\n",
       "      <td>0.243243</td>\n",
       "      <td>-0.420006</td>\n",
       "      <td>...</td>\n",
       "      <td>1.0</td>\n",
       "      <td>0.0</td>\n",
       "      <td>0.0</td>\n",
       "      <td>1.0</td>\n",
       "      <td>0.0</td>\n",
       "      <td>0.0</td>\n",
       "      <td>1.0</td>\n",
       "      <td>0.0</td>\n",
       "      <td>0.0</td>\n",
       "      <td>0.0</td>\n",
       "    </tr>\n",
       "    <tr>\n",
       "      <th>2</th>\n",
       "      <td>-0.054979</td>\n",
       "      <td>-0.115145</td>\n",
       "      <td>-1.254835</td>\n",
       "      <td>0.718790</td>\n",
       "      <td>0.930209</td>\n",
       "      <td>-0.208697</td>\n",
       "      <td>-0.825776</td>\n",
       "      <td>1.878537</td>\n",
       "      <td>-1.845292</td>\n",
       "      <td>0.035146</td>\n",
       "      <td>...</td>\n",
       "      <td>1.0</td>\n",
       "      <td>0.0</td>\n",
       "      <td>0.0</td>\n",
       "      <td>0.0</td>\n",
       "      <td>0.0</td>\n",
       "      <td>0.0</td>\n",
       "      <td>0.0</td>\n",
       "      <td>0.0</td>\n",
       "      <td>0.0</td>\n",
       "      <td>0.0</td>\n",
       "    </tr>\n",
       "    <tr>\n",
       "      <th>3</th>\n",
       "      <td>-0.054979</td>\n",
       "      <td>-2.052540</td>\n",
       "      <td>-0.666905</td>\n",
       "      <td>0.718790</td>\n",
       "      <td>-0.357662</td>\n",
       "      <td>0.586651</td>\n",
       "      <td>0.916584</td>\n",
       "      <td>1.281545</td>\n",
       "      <td>-0.434120</td>\n",
       "      <td>0.717874</td>\n",
       "      <td>...</td>\n",
       "      <td>0.0</td>\n",
       "      <td>1.0</td>\n",
       "      <td>0.0</td>\n",
       "      <td>0.0</td>\n",
       "      <td>0.0</td>\n",
       "      <td>0.0</td>\n",
       "      <td>0.0</td>\n",
       "      <td>1.0</td>\n",
       "      <td>0.0</td>\n",
       "      <td>0.0</td>\n",
       "    </tr>\n",
       "    <tr>\n",
       "      <th>4</th>\n",
       "      <td>-0.054979</td>\n",
       "      <td>-0.003631</td>\n",
       "      <td>-1.254835</td>\n",
       "      <td>-1.866826</td>\n",
       "      <td>-0.357662</td>\n",
       "      <td>-0.208697</td>\n",
       "      <td>-0.303068</td>\n",
       "      <td>1.148880</td>\n",
       "      <td>-0.772801</td>\n",
       "      <td>-1.102734</td>\n",
       "      <td>...</td>\n",
       "      <td>0.0</td>\n",
       "      <td>0.0</td>\n",
       "      <td>1.0</td>\n",
       "      <td>0.0</td>\n",
       "      <td>1.0</td>\n",
       "      <td>0.0</td>\n",
       "      <td>1.0</td>\n",
       "      <td>0.0</td>\n",
       "      <td>0.0</td>\n",
       "      <td>0.0</td>\n",
       "    </tr>\n",
       "    <tr>\n",
       "      <th>...</th>\n",
       "      <td>...</td>\n",
       "      <td>...</td>\n",
       "      <td>...</td>\n",
       "      <td>...</td>\n",
       "      <td>...</td>\n",
       "      <td>...</td>\n",
       "      <td>...</td>\n",
       "      <td>...</td>\n",
       "      <td>...</td>\n",
       "      <td>...</td>\n",
       "      <td>...</td>\n",
       "      <td>...</td>\n",
       "      <td>...</td>\n",
       "      <td>...</td>\n",
       "      <td>...</td>\n",
       "      <td>...</td>\n",
       "      <td>...</td>\n",
       "      <td>...</td>\n",
       "      <td>...</td>\n",
       "      <td>...</td>\n",
       "      <td>...</td>\n",
       "    </tr>\n",
       "    <tr>\n",
       "      <th>76324</th>\n",
       "      <td>-0.054979</td>\n",
       "      <td>0.645974</td>\n",
       "      <td>-1.254835</td>\n",
       "      <td>0.718790</td>\n",
       "      <td>-0.357662</td>\n",
       "      <td>0.387814</td>\n",
       "      <td>0.219640</td>\n",
       "      <td>-0.111436</td>\n",
       "      <td>1.202841</td>\n",
       "      <td>-0.192430</td>\n",
       "      <td>...</td>\n",
       "      <td>0.0</td>\n",
       "      <td>1.0</td>\n",
       "      <td>0.0</td>\n",
       "      <td>0.0</td>\n",
       "      <td>0.0</td>\n",
       "      <td>0.0</td>\n",
       "      <td>0.0</td>\n",
       "      <td>1.0</td>\n",
       "      <td>0.0</td>\n",
       "      <td>0.0</td>\n",
       "    </tr>\n",
       "    <tr>\n",
       "      <th>76325</th>\n",
       "      <td>-0.055998</td>\n",
       "      <td>-1.083842</td>\n",
       "      <td>0.508956</td>\n",
       "      <td>-0.389331</td>\n",
       "      <td>0.071629</td>\n",
       "      <td>-0.208697</td>\n",
       "      <td>-0.390186</td>\n",
       "      <td>-0.177769</td>\n",
       "      <td>0.356137</td>\n",
       "      <td>0.490298</td>\n",
       "      <td>...</td>\n",
       "      <td>1.0</td>\n",
       "      <td>0.0</td>\n",
       "      <td>0.0</td>\n",
       "      <td>1.0</td>\n",
       "      <td>0.0</td>\n",
       "      <td>0.0</td>\n",
       "      <td>0.0</td>\n",
       "      <td>1.0</td>\n",
       "      <td>0.0</td>\n",
       "      <td>0.0</td>\n",
       "    </tr>\n",
       "    <tr>\n",
       "      <th>76326</th>\n",
       "      <td>-0.053960</td>\n",
       "      <td>-0.945457</td>\n",
       "      <td>0.508956</td>\n",
       "      <td>0.718790</td>\n",
       "      <td>-0.357662</td>\n",
       "      <td>-0.208697</td>\n",
       "      <td>1.003702</td>\n",
       "      <td>-0.509431</td>\n",
       "      <td>0.638372</td>\n",
       "      <td>0.035146</td>\n",
       "      <td>...</td>\n",
       "      <td>0.0</td>\n",
       "      <td>1.0</td>\n",
       "      <td>0.0</td>\n",
       "      <td>0.0</td>\n",
       "      <td>0.0</td>\n",
       "      <td>0.0</td>\n",
       "      <td>0.0</td>\n",
       "      <td>0.0</td>\n",
       "      <td>0.0</td>\n",
       "      <td>0.0</td>\n",
       "    </tr>\n",
       "    <tr>\n",
       "      <th>76327</th>\n",
       "      <td>-0.027471</td>\n",
       "      <td>-0.807072</td>\n",
       "      <td>0.508956</td>\n",
       "      <td>-0.758704</td>\n",
       "      <td>-0.357662</td>\n",
       "      <td>-0.009860</td>\n",
       "      <td>-0.390186</td>\n",
       "      <td>-0.774761</td>\n",
       "      <td>0.807712</td>\n",
       "      <td>-0.192430</td>\n",
       "      <td>...</td>\n",
       "      <td>0.0</td>\n",
       "      <td>1.0</td>\n",
       "      <td>0.0</td>\n",
       "      <td>0.0</td>\n",
       "      <td>1.0</td>\n",
       "      <td>0.0</td>\n",
       "      <td>1.0</td>\n",
       "      <td>0.0</td>\n",
       "      <td>0.0</td>\n",
       "      <td>0.0</td>\n",
       "    </tr>\n",
       "    <tr>\n",
       "      <th>76328</th>\n",
       "      <td>-0.054979</td>\n",
       "      <td>0.230818</td>\n",
       "      <td>-1.254835</td>\n",
       "      <td>-0.758704</td>\n",
       "      <td>0.608241</td>\n",
       "      <td>-0.208697</td>\n",
       "      <td>0.829466</td>\n",
       "      <td>-1.239088</td>\n",
       "      <td>0.920606</td>\n",
       "      <td>-0.192430</td>\n",
       "      <td>...</td>\n",
       "      <td>0.0</td>\n",
       "      <td>1.0</td>\n",
       "      <td>0.0</td>\n",
       "      <td>0.0</td>\n",
       "      <td>0.0</td>\n",
       "      <td>0.0</td>\n",
       "      <td>0.0</td>\n",
       "      <td>0.0</td>\n",
       "      <td>0.0</td>\n",
       "      <td>1.0</td>\n",
       "    </tr>\n",
       "  </tbody>\n",
       "</table>\n",
       "<p>76329 rows × 355 columns</p>\n",
       "</div>"
      ],
      "text/plain": [
       "            0         1         2         3         4         5         6    \\\n",
       "0     -0.054979 -1.360613  0.508956  0.349417 -0.250339  0.188977 -1.087130   \n",
       "1     -0.055998 -0.003631  0.508956  0.718790 -0.357662 -0.208697 -0.651540   \n",
       "2     -0.054979 -0.115145 -1.254835  0.718790  0.930209 -0.208697 -0.825776   \n",
       "3     -0.054979 -2.052540 -0.666905  0.718790 -0.357662  0.586651  0.916584   \n",
       "4     -0.054979 -0.003631 -1.254835 -1.866826 -0.357662 -0.208697 -0.303068   \n",
       "...         ...       ...       ...       ...       ...       ...       ...   \n",
       "76324 -0.054979  0.645974 -1.254835  0.718790 -0.357662  0.387814  0.219640   \n",
       "76325 -0.055998 -1.083842  0.508956 -0.389331  0.071629 -0.208697 -0.390186   \n",
       "76326 -0.053960 -0.945457  0.508956  0.718790 -0.357662 -0.208697  1.003702   \n",
       "76327 -0.027471 -0.807072  0.508956 -0.758704 -0.357662 -0.009860 -0.390186   \n",
       "76328 -0.054979  0.230818 -1.254835 -0.758704  0.608241 -0.208697  0.829466   \n",
       "\n",
       "            7         8         9    ...  345  346  347  348  349  350  351  \\\n",
       "0      1.281545 -1.450164 -0.875158  ...  1.0  0.0  0.0  1.0  0.0  0.0  0.0   \n",
       "1     -0.045104  0.243243 -0.420006  ...  1.0  0.0  0.0  1.0  0.0  0.0  1.0   \n",
       "2      1.878537 -1.845292  0.035146  ...  1.0  0.0  0.0  0.0  0.0  0.0  0.0   \n",
       "3      1.281545 -0.434120  0.717874  ...  0.0  1.0  0.0  0.0  0.0  0.0  0.0   \n",
       "4      1.148880 -0.772801 -1.102734  ...  0.0  0.0  1.0  0.0  1.0  0.0  1.0   \n",
       "...         ...       ...       ...  ...  ...  ...  ...  ...  ...  ...  ...   \n",
       "76324 -0.111436  1.202841 -0.192430  ...  0.0  1.0  0.0  0.0  0.0  0.0  0.0   \n",
       "76325 -0.177769  0.356137  0.490298  ...  1.0  0.0  0.0  1.0  0.0  0.0  0.0   \n",
       "76326 -0.509431  0.638372  0.035146  ...  0.0  1.0  0.0  0.0  0.0  0.0  0.0   \n",
       "76327 -0.774761  0.807712 -0.192430  ...  0.0  1.0  0.0  0.0  1.0  0.0  1.0   \n",
       "76328 -1.239088  0.920606 -0.192430  ...  0.0  1.0  0.0  0.0  0.0  0.0  0.0   \n",
       "\n",
       "       352  353  354  \n",
       "0      0.0  1.0  0.0  \n",
       "1      0.0  0.0  0.0  \n",
       "2      0.0  0.0  0.0  \n",
       "3      1.0  0.0  0.0  \n",
       "4      0.0  0.0  0.0  \n",
       "...    ...  ...  ...  \n",
       "76324  1.0  0.0  0.0  \n",
       "76325  1.0  0.0  0.0  \n",
       "76326  0.0  0.0  0.0  \n",
       "76327  0.0  0.0  0.0  \n",
       "76328  0.0  0.0  1.0  \n",
       "\n",
       "[76329 rows x 355 columns]"
      ]
     },
     "execution_count": 21,
     "metadata": {},
     "output_type": "execute_result"
    }
   ],
   "source": [
    "X_train_r_s = pd.DataFrame(X_train_r)\n",
    "X_train_r_s"
   ]
  },
  {
   "cell_type": "code",
   "execution_count": 22,
   "metadata": {},
   "outputs": [],
   "source": [
    "y_train = y_train.reset_index(drop = True)"
   ]
  },
  {
   "cell_type": "code",
   "execution_count": 23,
   "metadata": {
    "scrolled": true
   },
   "outputs": [
    {
     "data": {
      "text/html": [
       "<div>\n",
       "<style scoped>\n",
       "    .dataframe tbody tr th:only-of-type {\n",
       "        vertical-align: middle;\n",
       "    }\n",
       "\n",
       "    .dataframe tbody tr th {\n",
       "        vertical-align: top;\n",
       "    }\n",
       "\n",
       "    .dataframe thead th {\n",
       "        text-align: right;\n",
       "    }\n",
       "</style>\n",
       "<table border=\"1\" class=\"dataframe\">\n",
       "  <thead>\n",
       "    <tr style=\"text-align: right;\">\n",
       "      <th></th>\n",
       "      <th>0</th>\n",
       "      <th>1</th>\n",
       "      <th>2</th>\n",
       "      <th>3</th>\n",
       "      <th>4</th>\n",
       "      <th>5</th>\n",
       "      <th>6</th>\n",
       "      <th>7</th>\n",
       "      <th>8</th>\n",
       "      <th>9</th>\n",
       "      <th>...</th>\n",
       "      <th>346</th>\n",
       "      <th>347</th>\n",
       "      <th>348</th>\n",
       "      <th>349</th>\n",
       "      <th>350</th>\n",
       "      <th>351</th>\n",
       "      <th>352</th>\n",
       "      <th>353</th>\n",
       "      <th>354</th>\n",
       "      <th>TARGET_B</th>\n",
       "    </tr>\n",
       "  </thead>\n",
       "  <tbody>\n",
       "    <tr>\n",
       "      <th>0</th>\n",
       "      <td>-0.054979</td>\n",
       "      <td>-1.360613</td>\n",
       "      <td>0.508956</td>\n",
       "      <td>0.349417</td>\n",
       "      <td>-0.250339</td>\n",
       "      <td>0.188977</td>\n",
       "      <td>-1.087130</td>\n",
       "      <td>1.281545</td>\n",
       "      <td>-1.450164</td>\n",
       "      <td>-0.875158</td>\n",
       "      <td>...</td>\n",
       "      <td>0.0</td>\n",
       "      <td>0.0</td>\n",
       "      <td>1.0</td>\n",
       "      <td>0.0</td>\n",
       "      <td>0.0</td>\n",
       "      <td>0.0</td>\n",
       "      <td>0.0</td>\n",
       "      <td>1.0</td>\n",
       "      <td>0.0</td>\n",
       "      <td>0</td>\n",
       "    </tr>\n",
       "    <tr>\n",
       "      <th>1</th>\n",
       "      <td>-0.055998</td>\n",
       "      <td>-0.003631</td>\n",
       "      <td>0.508956</td>\n",
       "      <td>0.718790</td>\n",
       "      <td>-0.357662</td>\n",
       "      <td>-0.208697</td>\n",
       "      <td>-0.651540</td>\n",
       "      <td>-0.045104</td>\n",
       "      <td>0.243243</td>\n",
       "      <td>-0.420006</td>\n",
       "      <td>...</td>\n",
       "      <td>0.0</td>\n",
       "      <td>0.0</td>\n",
       "      <td>1.0</td>\n",
       "      <td>0.0</td>\n",
       "      <td>0.0</td>\n",
       "      <td>1.0</td>\n",
       "      <td>0.0</td>\n",
       "      <td>0.0</td>\n",
       "      <td>0.0</td>\n",
       "      <td>0</td>\n",
       "    </tr>\n",
       "    <tr>\n",
       "      <th>2</th>\n",
       "      <td>-0.054979</td>\n",
       "      <td>-0.115145</td>\n",
       "      <td>-1.254835</td>\n",
       "      <td>0.718790</td>\n",
       "      <td>0.930209</td>\n",
       "      <td>-0.208697</td>\n",
       "      <td>-0.825776</td>\n",
       "      <td>1.878537</td>\n",
       "      <td>-1.845292</td>\n",
       "      <td>0.035146</td>\n",
       "      <td>...</td>\n",
       "      <td>0.0</td>\n",
       "      <td>0.0</td>\n",
       "      <td>0.0</td>\n",
       "      <td>0.0</td>\n",
       "      <td>0.0</td>\n",
       "      <td>0.0</td>\n",
       "      <td>0.0</td>\n",
       "      <td>0.0</td>\n",
       "      <td>0.0</td>\n",
       "      <td>0</td>\n",
       "    </tr>\n",
       "    <tr>\n",
       "      <th>3</th>\n",
       "      <td>-0.054979</td>\n",
       "      <td>-2.052540</td>\n",
       "      <td>-0.666905</td>\n",
       "      <td>0.718790</td>\n",
       "      <td>-0.357662</td>\n",
       "      <td>0.586651</td>\n",
       "      <td>0.916584</td>\n",
       "      <td>1.281545</td>\n",
       "      <td>-0.434120</td>\n",
       "      <td>0.717874</td>\n",
       "      <td>...</td>\n",
       "      <td>1.0</td>\n",
       "      <td>0.0</td>\n",
       "      <td>0.0</td>\n",
       "      <td>0.0</td>\n",
       "      <td>0.0</td>\n",
       "      <td>0.0</td>\n",
       "      <td>1.0</td>\n",
       "      <td>0.0</td>\n",
       "      <td>0.0</td>\n",
       "      <td>1</td>\n",
       "    </tr>\n",
       "    <tr>\n",
       "      <th>4</th>\n",
       "      <td>-0.054979</td>\n",
       "      <td>-0.003631</td>\n",
       "      <td>-1.254835</td>\n",
       "      <td>-1.866826</td>\n",
       "      <td>-0.357662</td>\n",
       "      <td>-0.208697</td>\n",
       "      <td>-0.303068</td>\n",
       "      <td>1.148880</td>\n",
       "      <td>-0.772801</td>\n",
       "      <td>-1.102734</td>\n",
       "      <td>...</td>\n",
       "      <td>0.0</td>\n",
       "      <td>1.0</td>\n",
       "      <td>0.0</td>\n",
       "      <td>1.0</td>\n",
       "      <td>0.0</td>\n",
       "      <td>1.0</td>\n",
       "      <td>0.0</td>\n",
       "      <td>0.0</td>\n",
       "      <td>0.0</td>\n",
       "      <td>0</td>\n",
       "    </tr>\n",
       "    <tr>\n",
       "      <th>...</th>\n",
       "      <td>...</td>\n",
       "      <td>...</td>\n",
       "      <td>...</td>\n",
       "      <td>...</td>\n",
       "      <td>...</td>\n",
       "      <td>...</td>\n",
       "      <td>...</td>\n",
       "      <td>...</td>\n",
       "      <td>...</td>\n",
       "      <td>...</td>\n",
       "      <td>...</td>\n",
       "      <td>...</td>\n",
       "      <td>...</td>\n",
       "      <td>...</td>\n",
       "      <td>...</td>\n",
       "      <td>...</td>\n",
       "      <td>...</td>\n",
       "      <td>...</td>\n",
       "      <td>...</td>\n",
       "      <td>...</td>\n",
       "      <td>...</td>\n",
       "    </tr>\n",
       "    <tr>\n",
       "      <th>76324</th>\n",
       "      <td>-0.054979</td>\n",
       "      <td>0.645974</td>\n",
       "      <td>-1.254835</td>\n",
       "      <td>0.718790</td>\n",
       "      <td>-0.357662</td>\n",
       "      <td>0.387814</td>\n",
       "      <td>0.219640</td>\n",
       "      <td>-0.111436</td>\n",
       "      <td>1.202841</td>\n",
       "      <td>-0.192430</td>\n",
       "      <td>...</td>\n",
       "      <td>1.0</td>\n",
       "      <td>0.0</td>\n",
       "      <td>0.0</td>\n",
       "      <td>0.0</td>\n",
       "      <td>0.0</td>\n",
       "      <td>0.0</td>\n",
       "      <td>1.0</td>\n",
       "      <td>0.0</td>\n",
       "      <td>0.0</td>\n",
       "      <td>0</td>\n",
       "    </tr>\n",
       "    <tr>\n",
       "      <th>76325</th>\n",
       "      <td>-0.055998</td>\n",
       "      <td>-1.083842</td>\n",
       "      <td>0.508956</td>\n",
       "      <td>-0.389331</td>\n",
       "      <td>0.071629</td>\n",
       "      <td>-0.208697</td>\n",
       "      <td>-0.390186</td>\n",
       "      <td>-0.177769</td>\n",
       "      <td>0.356137</td>\n",
       "      <td>0.490298</td>\n",
       "      <td>...</td>\n",
       "      <td>0.0</td>\n",
       "      <td>0.0</td>\n",
       "      <td>1.0</td>\n",
       "      <td>0.0</td>\n",
       "      <td>0.0</td>\n",
       "      <td>0.0</td>\n",
       "      <td>1.0</td>\n",
       "      <td>0.0</td>\n",
       "      <td>0.0</td>\n",
       "      <td>0</td>\n",
       "    </tr>\n",
       "    <tr>\n",
       "      <th>76326</th>\n",
       "      <td>-0.053960</td>\n",
       "      <td>-0.945457</td>\n",
       "      <td>0.508956</td>\n",
       "      <td>0.718790</td>\n",
       "      <td>-0.357662</td>\n",
       "      <td>-0.208697</td>\n",
       "      <td>1.003702</td>\n",
       "      <td>-0.509431</td>\n",
       "      <td>0.638372</td>\n",
       "      <td>0.035146</td>\n",
       "      <td>...</td>\n",
       "      <td>1.0</td>\n",
       "      <td>0.0</td>\n",
       "      <td>0.0</td>\n",
       "      <td>0.0</td>\n",
       "      <td>0.0</td>\n",
       "      <td>0.0</td>\n",
       "      <td>0.0</td>\n",
       "      <td>0.0</td>\n",
       "      <td>0.0</td>\n",
       "      <td>0</td>\n",
       "    </tr>\n",
       "    <tr>\n",
       "      <th>76327</th>\n",
       "      <td>-0.027471</td>\n",
       "      <td>-0.807072</td>\n",
       "      <td>0.508956</td>\n",
       "      <td>-0.758704</td>\n",
       "      <td>-0.357662</td>\n",
       "      <td>-0.009860</td>\n",
       "      <td>-0.390186</td>\n",
       "      <td>-0.774761</td>\n",
       "      <td>0.807712</td>\n",
       "      <td>-0.192430</td>\n",
       "      <td>...</td>\n",
       "      <td>1.0</td>\n",
       "      <td>0.0</td>\n",
       "      <td>0.0</td>\n",
       "      <td>1.0</td>\n",
       "      <td>0.0</td>\n",
       "      <td>1.0</td>\n",
       "      <td>0.0</td>\n",
       "      <td>0.0</td>\n",
       "      <td>0.0</td>\n",
       "      <td>0</td>\n",
       "    </tr>\n",
       "    <tr>\n",
       "      <th>76328</th>\n",
       "      <td>-0.054979</td>\n",
       "      <td>0.230818</td>\n",
       "      <td>-1.254835</td>\n",
       "      <td>-0.758704</td>\n",
       "      <td>0.608241</td>\n",
       "      <td>-0.208697</td>\n",
       "      <td>0.829466</td>\n",
       "      <td>-1.239088</td>\n",
       "      <td>0.920606</td>\n",
       "      <td>-0.192430</td>\n",
       "      <td>...</td>\n",
       "      <td>1.0</td>\n",
       "      <td>0.0</td>\n",
       "      <td>0.0</td>\n",
       "      <td>0.0</td>\n",
       "      <td>0.0</td>\n",
       "      <td>0.0</td>\n",
       "      <td>0.0</td>\n",
       "      <td>0.0</td>\n",
       "      <td>1.0</td>\n",
       "      <td>0</td>\n",
       "    </tr>\n",
       "  </tbody>\n",
       "</table>\n",
       "<p>76329 rows × 356 columns</p>\n",
       "</div>"
      ],
      "text/plain": [
       "              0         1         2         3         4         5         6  \\\n",
       "0     -0.054979 -1.360613  0.508956  0.349417 -0.250339  0.188977 -1.087130   \n",
       "1     -0.055998 -0.003631  0.508956  0.718790 -0.357662 -0.208697 -0.651540   \n",
       "2     -0.054979 -0.115145 -1.254835  0.718790  0.930209 -0.208697 -0.825776   \n",
       "3     -0.054979 -2.052540 -0.666905  0.718790 -0.357662  0.586651  0.916584   \n",
       "4     -0.054979 -0.003631 -1.254835 -1.866826 -0.357662 -0.208697 -0.303068   \n",
       "...         ...       ...       ...       ...       ...       ...       ...   \n",
       "76324 -0.054979  0.645974 -1.254835  0.718790 -0.357662  0.387814  0.219640   \n",
       "76325 -0.055998 -1.083842  0.508956 -0.389331  0.071629 -0.208697 -0.390186   \n",
       "76326 -0.053960 -0.945457  0.508956  0.718790 -0.357662 -0.208697  1.003702   \n",
       "76327 -0.027471 -0.807072  0.508956 -0.758704 -0.357662 -0.009860 -0.390186   \n",
       "76328 -0.054979  0.230818 -1.254835 -0.758704  0.608241 -0.208697  0.829466   \n",
       "\n",
       "              7         8         9  ...  346  347  348  349  350  351  352  \\\n",
       "0      1.281545 -1.450164 -0.875158  ...  0.0  0.0  1.0  0.0  0.0  0.0  0.0   \n",
       "1     -0.045104  0.243243 -0.420006  ...  0.0  0.0  1.0  0.0  0.0  1.0  0.0   \n",
       "2      1.878537 -1.845292  0.035146  ...  0.0  0.0  0.0  0.0  0.0  0.0  0.0   \n",
       "3      1.281545 -0.434120  0.717874  ...  1.0  0.0  0.0  0.0  0.0  0.0  1.0   \n",
       "4      1.148880 -0.772801 -1.102734  ...  0.0  1.0  0.0  1.0  0.0  1.0  0.0   \n",
       "...         ...       ...       ...  ...  ...  ...  ...  ...  ...  ...  ...   \n",
       "76324 -0.111436  1.202841 -0.192430  ...  1.0  0.0  0.0  0.0  0.0  0.0  1.0   \n",
       "76325 -0.177769  0.356137  0.490298  ...  0.0  0.0  1.0  0.0  0.0  0.0  1.0   \n",
       "76326 -0.509431  0.638372  0.035146  ...  1.0  0.0  0.0  0.0  0.0  0.0  0.0   \n",
       "76327 -0.774761  0.807712 -0.192430  ...  1.0  0.0  0.0  1.0  0.0  1.0  0.0   \n",
       "76328 -1.239088  0.920606 -0.192430  ...  1.0  0.0  0.0  0.0  0.0  0.0  0.0   \n",
       "\n",
       "       353  354  TARGET_B  \n",
       "0      1.0  0.0         0  \n",
       "1      0.0  0.0         0  \n",
       "2      0.0  0.0         0  \n",
       "3      0.0  0.0         1  \n",
       "4      0.0  0.0         0  \n",
       "...    ...  ...       ...  \n",
       "76324  0.0  0.0         0  \n",
       "76325  0.0  0.0         0  \n",
       "76326  0.0  0.0         0  \n",
       "76327  0.0  0.0         0  \n",
       "76328  0.0  1.0         0  \n",
       "\n",
       "[76329 rows x 356 columns]"
      ]
     },
     "execution_count": 23,
     "metadata": {},
     "output_type": "execute_result"
    }
   ],
   "source": [
    "data_B = pd.concat([X_train_r_s,y_train],axis =1)\n",
    "data_B"
   ]
  },
  {
   "cell_type": "code",
   "execution_count": 24,
   "metadata": {},
   "outputs": [],
   "source": [
    "from sklearn.utils import resample\n",
    "\n",
    "category_0 = data_B[data_B['TARGET_B'] == 0]\n",
    "category_1 = data_B[data_B['TARGET_B'] == 1]"
   ]
  },
  {
   "cell_type": "code",
   "execution_count": 25,
   "metadata": {},
   "outputs": [
    {
     "data": {
      "text/plain": [
       "(72464, 356)"
      ]
     },
     "execution_count": 25,
     "metadata": {},
     "output_type": "execute_result"
    }
   ],
   "source": [
    "category_0.shape"
   ]
  },
  {
   "cell_type": "code",
   "execution_count": 26,
   "metadata": {},
   "outputs": [
    {
     "data": {
      "text/plain": [
       "(3865, 356)"
      ]
     },
     "execution_count": 26,
     "metadata": {},
     "output_type": "execute_result"
    }
   ],
   "source": [
    "category_1.shape"
   ]
  },
  {
   "cell_type": "markdown",
   "metadata": {},
   "source": [
    "# Downsampling (undersampling)"
   ]
  },
  {
   "cell_type": "code",
   "execution_count": 27,
   "metadata": {},
   "outputs": [],
   "source": [
    "category_0_undersampled = resample(category_0,\n",
    "                                   replace=False,\n",
    "                                   n_samples = len(category_1))"
   ]
  },
  {
   "cell_type": "code",
   "execution_count": 28,
   "metadata": {},
   "outputs": [
    {
     "name": "stdout",
     "output_type": "stream",
     "text": [
      "(3865, 356)\n",
      "(3865, 356)\n"
     ]
    }
   ],
   "source": [
    "print(category_0_undersampled.shape)\n",
    "print(category_1.shape)"
   ]
  },
  {
   "cell_type": "code",
   "execution_count": 29,
   "metadata": {},
   "outputs": [
    {
     "data": {
      "text/plain": [
       "TARGET_B\n",
       "0    3865\n",
       "1    3865\n",
       "Name: count, dtype: int64"
      ]
     },
     "execution_count": 29,
     "metadata": {},
     "output_type": "execute_result"
    }
   ],
   "source": [
    "data_downsampled = pd.concat([category_0_undersampled, category_1], axis=0)\n",
    "data_downsampled['TARGET_B'].value_counts()"
   ]
  },
  {
   "cell_type": "code",
   "execution_count": 30,
   "metadata": {},
   "outputs": [],
   "source": [
    "y_train_d = data_downsampled[\"TARGET_B\"]\n",
    "data_downsampled.drop(\"TARGET_B\", axis =1,inplace =True)"
   ]
  },
  {
   "cell_type": "code",
   "execution_count": 31,
   "metadata": {},
   "outputs": [],
   "source": [
    "X_test_r_s = pd.DataFrame(X_test_r)"
   ]
  },
  {
   "cell_type": "code",
   "execution_count": 32,
   "metadata": {},
   "outputs": [
    {
     "name": "stderr",
     "output_type": "stream",
     "text": [
      "C:\\Users\\Denish\\anaconda1\\Lib\\site-packages\\sklearn\\linear_model\\_logistic.py:469: ConvergenceWarning: lbfgs failed to converge (status=1):\n",
      "STOP: TOTAL NO. of ITERATIONS REACHED LIMIT.\n",
      "\n",
      "Increase the number of iterations (max_iter) or scale the data as shown in:\n",
      "    https://scikit-learn.org/stable/modules/preprocessing.html\n",
      "Please also refer to the documentation for alternative solver options:\n",
      "    https://scikit-learn.org/stable/modules/linear_model.html#logistic-regression\n",
      "  n_iter_i = _check_optimize_result(\n"
     ]
    }
   ],
   "source": [
    "model1 = LogisticRegression()\n",
    "model1.fit(data_downsampled, y_train_d)\n",
    "y_pred1 = model1.predict(X_test_r_s)"
   ]
  },
  {
   "cell_type": "code",
   "execution_count": 33,
   "metadata": {},
   "outputs": [
    {
     "name": "stdout",
     "output_type": "stream",
     "text": [
      "Accuracy: 0.5786825970759315\n"
     ]
    }
   ],
   "source": [
    "# Calculate accuracy using accuracy_score\n",
    "from sklearn.metrics import accuracy_score\n",
    "accuracy = accuracy_score(y_test, y_pred1)\n",
    "print(\"Accuracy:\", accuracy)"
   ]
  },
  {
   "cell_type": "code",
   "execution_count": 34,
   "metadata": {},
   "outputs": [
    {
     "name": "stdout",
     "output_type": "stream",
     "text": [
      "Model score: 0.5786825970759315\n"
     ]
    }
   ],
   "source": [
    "# Get the model's score (performance on training data)\n",
    "score = model1.score(X_test_r_s, y_test)\n",
    "print(\"Model score:\", score)"
   ]
  },
  {
   "cell_type": "code",
   "execution_count": 35,
   "metadata": {},
   "outputs": [
    {
     "name": "stdout",
     "output_type": "stream",
     "text": [
      "Precision: 0.06791483113069016\n",
      "Recall: 0.5674846625766872\n",
      "Confusion matrix:\n",
      "[[10488  7617]\n",
      " [  423   555]]\n"
     ]
    }
   ],
   "source": [
    "from sklearn.metrics import precision_score, recall_score, confusion_matrix\n",
    "\n",
    "precision = precision_score(y_test, y_pred1)\n",
    "\n",
    "recall = recall_score(y_test, y_pred1)\n",
    "\n",
    "cm = confusion_matrix(y_test, y_pred1)\n",
    "\n",
    "print(\"Precision:\", precision)\n",
    "print(\"Recall:\", recall)\n",
    "print(\"Confusion matrix:\")\n",
    "print(cm)"
   ]
  },
  {
   "cell_type": "code",
   "execution_count": 36,
   "metadata": {},
   "outputs": [],
   "source": [
    "# new_y_pred1 = pd.Series(y_pred1)\n",
    "# new_y_pred1"
   ]
  },
  {
   "cell_type": "markdown",
   "metadata": {},
   "source": [
    "# Upsampling (oversampling)"
   ]
  },
  {
   "cell_type": "code",
   "execution_count": 37,
   "metadata": {},
   "outputs": [],
   "source": [
    "category_1_oversampled = resample(category_1,\n",
    "                                  replace=True,\n",
    "                                  n_samples = len(category_0))"
   ]
  },
  {
   "cell_type": "code",
   "execution_count": 38,
   "metadata": {},
   "outputs": [
    {
     "name": "stdout",
     "output_type": "stream",
     "text": [
      "(72464, 356)\n",
      "(72464, 356)\n"
     ]
    }
   ],
   "source": [
    "print(category_0.shape)\n",
    "print(category_1_oversampled.shape)"
   ]
  },
  {
   "cell_type": "code",
   "execution_count": 39,
   "metadata": {},
   "outputs": [
    {
     "data": {
      "text/plain": [
       "TARGET_B\n",
       "0    72464\n",
       "1    72464\n",
       "Name: count, dtype: int64"
      ]
     },
     "execution_count": 39,
     "metadata": {},
     "output_type": "execute_result"
    }
   ],
   "source": [
    "data_upsampled = pd.concat([category_0, category_1_oversampled], axis=0)\n",
    "data_upsampled['TARGET_B'].value_counts()"
   ]
  },
  {
   "cell_type": "code",
   "execution_count": 40,
   "metadata": {},
   "outputs": [],
   "source": [
    "y_train_u = data_upsampled[\"TARGET_B\"]\n",
    "data_upsampled.drop(\"TARGET_B\", axis =1,inplace =True)"
   ]
  },
  {
   "cell_type": "code",
   "execution_count": 41,
   "metadata": {},
   "outputs": [
    {
     "name": "stderr",
     "output_type": "stream",
     "text": [
      "C:\\Users\\Denish\\anaconda1\\Lib\\site-packages\\sklearn\\linear_model\\_logistic.py:469: ConvergenceWarning: lbfgs failed to converge (status=1):\n",
      "STOP: TOTAL NO. of ITERATIONS REACHED LIMIT.\n",
      "\n",
      "Increase the number of iterations (max_iter) or scale the data as shown in:\n",
      "    https://scikit-learn.org/stable/modules/preprocessing.html\n",
      "Please also refer to the documentation for alternative solver options:\n",
      "    https://scikit-learn.org/stable/modules/linear_model.html#logistic-regression\n",
      "  n_iter_i = _check_optimize_result(\n"
     ]
    }
   ],
   "source": [
    "model2 = LogisticRegression()\n",
    "model2.fit(data_upsampled, y_train_u)\n",
    "y_pred2 = model2.predict(X_test_r)"
   ]
  },
  {
   "cell_type": "code",
   "execution_count": 43,
   "metadata": {},
   "outputs": [
    {
     "name": "stdout",
     "output_type": "stream",
     "text": [
      "Precision: 0.07139044568988524\n",
      "Recall: 0.5470347648261759\n",
      "Confusion matrix:\n",
      "[[11146  6959]\n",
      " [  443   535]]\n"
     ]
    }
   ],
   "source": [
    "from sklearn.metrics import precision_score, recall_score, confusion_matrix\n",
    "\n",
    "precision_u = precision_score(y_test, y_pred2)\n",
    "\n",
    "recall_u = recall_score(y_test, y_pred2)\n",
    "\n",
    "cm_u = confusion_matrix(y_test, y_pred2)\n",
    "\n",
    "print(\"Precision:\", precision_u)\n",
    "print(\"Recall:\", recall_u)\n",
    "print(\"Confusion matrix:\")\n",
    "print(cm_u)"
   ]
  },
  {
   "cell_type": "code",
   "execution_count": 44,
   "metadata": {},
   "outputs": [
    {
     "name": "stdout",
     "output_type": "stream",
     "text": [
      "0.6204460145727534\n",
      "0.6140019913011581\n"
     ]
    },
    {
     "data": {
      "text/plain": [
       "TARGET_B\n",
       "0    18105\n",
       "1      978\n",
       "Name: count, dtype: int64"
      ]
     },
     "metadata": {},
     "output_type": "display_data"
    },
    {
     "data": {
      "text/plain": [
       "array([[11181,  6924],\n",
       "       [  442,   536]], dtype=int64)"
      ]
     },
     "metadata": {},
     "output_type": "display_data"
    }
   ],
   "source": [
    "from sklearn.ensemble import RandomForestClassifier\n",
    "from sklearn.metrics import confusion_matrix\n",
    "\n",
    "clf = RandomForestClassifier(max_depth=5, # max number of questions to ask\n",
    "                             min_samples_split=20, # amount of rows still considered at every question\n",
    "                             min_samples_leaf =20, # ultimate answer based on at least this many rows\n",
    "                             max_samples=0.8, # fraction of X-train to use in each tree\n",
    "                             random_state=42)\n",
    "clf.fit(data_upsampled, y_train_u)\n",
    "print(clf.score(data_upsampled, y_train_u))\n",
    "print(clf.score(X_test_r, y_test))\n",
    "\n",
    "y_pred = clf.predict(X_test_r)\n",
    "display(y_test.value_counts())\n",
    "display(confusion_matrix(y_test, y_pred))"
   ]
  },
  {
   "cell_type": "markdown",
   "metadata": {},
   "source": [
    "# Feature Selection"
   ]
  },
  {
   "cell_type": "code",
   "execution_count": null,
   "metadata": {},
   "outputs": [],
   "source": []
  }
 ],
 "metadata": {
  "kernelspec": {
   "display_name": "Python 3 (ipykernel)",
   "language": "python",
   "name": "python3"
  },
  "language_info": {
   "codemirror_mode": {
    "name": "ipython",
    "version": 3
   },
   "file_extension": ".py",
   "mimetype": "text/x-python",
   "name": "python",
   "nbconvert_exporter": "python",
   "pygments_lexer": "ipython3",
   "version": "3.11.5"
  }
 },
 "nbformat": 4,
 "nbformat_minor": 4
}
